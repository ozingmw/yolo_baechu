{
 "cells": [
  {
   "cell_type": "code",
   "execution_count": 1,
   "metadata": {},
   "outputs": [],
   "source": [
    "from ultralytics import YOLO"
   ]
  },
  {
   "cell_type": "code",
   "execution_count": 2,
   "metadata": {},
   "outputs": [],
   "source": [
    "import torch\n",
    "device = torch.device('mps')\n",
    "\n",
    "model = YOLO('./models/yolov8n.pt')"
   ]
  },
  {
   "cell_type": "code",
   "execution_count": 3,
   "metadata": {},
   "outputs": [
    {
     "name": "stdout",
     "output_type": "stream",
     "text": [
      "\u001b[34m\u001b[1mengine/trainer: \u001b[0mtask=detect, mode=train, model=./models/yolov8n.pt, data=./datasets/baechu.yaml, epochs=100, time=None, patience=10, batch=16, imgsz=640, save=True, save_period=-1, cache=False, device=mps, workers=8, project=None, name=train3, exist_ok=False, pretrained=True, optimizer=auto, verbose=True, seed=0, deterministic=True, single_cls=False, rect=False, cos_lr=False, close_mosaic=10, resume=False, amp=True, fraction=1.0, profile=False, freeze=None, multi_scale=False, overlap_mask=True, mask_ratio=4, dropout=0.0, val=True, split=val, save_json=False, save_hybrid=False, conf=None, iou=0.7, max_det=300, half=False, dnn=False, plots=True, source=None, vid_stride=1, stream_buffer=False, visualize=False, augment=False, agnostic_nms=False, classes=None, retina_masks=False, embed=None, show=False, save_frames=False, save_txt=False, save_conf=False, save_crop=False, show_labels=True, show_conf=True, show_boxes=True, line_width=None, format=torchscript, keras=False, optimize=False, int8=False, dynamic=False, simplify=False, opset=None, workspace=4, nms=False, lr0=0.01, lrf=0.01, momentum=0.937, weight_decay=0.0005, warmup_epochs=3.0, warmup_momentum=0.8, warmup_bias_lr=0.1, box=7.5, cls=0.5, dfl=1.5, pose=12.0, kobj=1.0, label_smoothing=0.0, nbs=64, hsv_h=0.015, hsv_s=0.7, hsv_v=0.4, degrees=0.0, translate=0.1, scale=0.5, shear=0.0, perspective=0.0, flipud=0.0, fliplr=0.5, mosaic=1.0, mixup=0.0, copy_paste=0.0, auto_augment=randaugment, erasing=0.4, crop_fraction=1.0, cfg=None, tracker=botsort.yaml, save_dir=runs/detect/train3\n",
      "Overriding model.yaml nc=80 with nc=1\n",
      "\n",
      "                   from  n    params  module                                       arguments                     \n",
      "  0                  -1  1       464  ultralytics.nn.modules.conv.Conv             [3, 16, 3, 2]                 \n",
      "  1                  -1  1      4672  ultralytics.nn.modules.conv.Conv             [16, 32, 3, 2]                \n",
      "  2                  -1  1      7360  ultralytics.nn.modules.block.C2f             [32, 32, 1, True]             \n",
      "  3                  -1  1     18560  ultralytics.nn.modules.conv.Conv             [32, 64, 3, 2]                \n",
      "  4                  -1  2     49664  ultralytics.nn.modules.block.C2f             [64, 64, 2, True]             \n",
      "  5                  -1  1     73984  ultralytics.nn.modules.conv.Conv             [64, 128, 3, 2]               \n",
      "  6                  -1  2    197632  ultralytics.nn.modules.block.C2f             [128, 128, 2, True]           \n",
      "  7                  -1  1    295424  ultralytics.nn.modules.conv.Conv             [128, 256, 3, 2]              \n",
      "  8                  -1  1    460288  ultralytics.nn.modules.block.C2f             [256, 256, 1, True]           \n",
      "  9                  -1  1    164608  ultralytics.nn.modules.block.SPPF            [256, 256, 5]                 \n",
      " 10                  -1  1         0  torch.nn.modules.upsampling.Upsample         [None, 2, 'nearest']          \n",
      " 11             [-1, 6]  1         0  ultralytics.nn.modules.conv.Concat           [1]                           \n",
      " 12                  -1  1    148224  ultralytics.nn.modules.block.C2f             [384, 128, 1]                 \n",
      " 13                  -1  1         0  torch.nn.modules.upsampling.Upsample         [None, 2, 'nearest']          \n",
      " 14             [-1, 4]  1         0  ultralytics.nn.modules.conv.Concat           [1]                           \n",
      " 15                  -1  1     37248  ultralytics.nn.modules.block.C2f             [192, 64, 1]                  \n",
      " 16                  -1  1     36992  ultralytics.nn.modules.conv.Conv             [64, 64, 3, 2]                \n",
      " 17            [-1, 12]  1         0  ultralytics.nn.modules.conv.Concat           [1]                           \n",
      " 18                  -1  1    123648  ultralytics.nn.modules.block.C2f             [192, 128, 1]                 \n",
      " 19                  -1  1    147712  ultralytics.nn.modules.conv.Conv             [128, 128, 3, 2]              \n",
      " 20             [-1, 9]  1         0  ultralytics.nn.modules.conv.Concat           [1]                           \n",
      " 21                  -1  1    493056  ultralytics.nn.modules.block.C2f             [384, 256, 1]                 \n",
      " 22        [15, 18, 21]  1    751507  ultralytics.nn.modules.head.Detect           [1, [64, 128, 256]]           \n",
      "Model summary: 225 layers, 3011043 parameters, 3011027 gradients, 8.2 GFLOPs\n",
      "\n",
      "Transferred 319/355 items from pretrained weights\n",
      "Freezing layer 'model.22.dfl.conv.weight'\n"
     ]
    },
    {
     "name": "stderr",
     "output_type": "stream",
     "text": [
      "\u001b[34m\u001b[1mtrain: \u001b[0mScanning /Users/jh/Desktop/workspace/baechu/datasets/train/labels... 1188 images, 0 backgrounds, 0 corrupt: 100%|██████████| 1188/1188 [00:00<00:00, 7063.52it/s]"
     ]
    },
    {
     "name": "stdout",
     "output_type": "stream",
     "text": [
      "\u001b[34m\u001b[1mtrain: \u001b[0mNew cache created: /Users/jh/Desktop/workspace/baechu/datasets/train/labels.cache\n"
     ]
    },
    {
     "name": "stderr",
     "output_type": "stream",
     "text": [
      "\n",
      "\u001b[34m\u001b[1mval: \u001b[0mScanning /Users/jh/Desktop/workspace/baechu/datasets/valid/labels... 264 images, 0 backgrounds, 0 corrupt: 100%|██████████| 264/264 [00:00<00:00, 5741.00it/s]"
     ]
    },
    {
     "name": "stdout",
     "output_type": "stream",
     "text": [
      "\u001b[34m\u001b[1mval: \u001b[0mNew cache created: /Users/jh/Desktop/workspace/baechu/datasets/valid/labels.cache\n"
     ]
    },
    {
     "name": "stderr",
     "output_type": "stream",
     "text": [
      "\n"
     ]
    },
    {
     "name": "stdout",
     "output_type": "stream",
     "text": [
      "Plotting labels to runs/detect/train3/labels.jpg... \n",
      "\u001b[34m\u001b[1moptimizer:\u001b[0m 'optimizer=auto' found, ignoring 'lr0=0.01' and 'momentum=0.937' and determining best 'optimizer', 'lr0' and 'momentum' automatically... \n",
      "\u001b[34m\u001b[1moptimizer:\u001b[0m AdamW(lr=0.002, momentum=0.9) with parameter groups 57 weight(decay=0.0), 64 weight(decay=0.0005), 63 bias(decay=0.0)\n",
      "Image sizes 640 train, 640 val\n",
      "Using 0 dataloader workers\n",
      "Logging results to \u001b[1mruns/detect/train3\u001b[0m\n",
      "Starting training for 100 epochs...\n",
      "\n",
      "      Epoch    GPU_mem   box_loss   cls_loss   dfl_loss  Instances       Size\n"
     ]
    },
    {
     "name": "stderr",
     "output_type": "stream",
     "text": [
      "      1/100         0G      1.117      1.997       1.13          4        640: 100%|██████████| 75/75 [01:49<00:00,  1.46s/it]\n",
      "                 Class     Images  Instances      Box(P          R      mAP50  mAP50-95):   0%|          | 0/9 [00:00<?, ?it/s]"
     ]
    },
    {
     "name": "stdout",
     "output_type": "stream",
     "text": [
      "WARNING ⚠️ NMS time limit 3.600s exceeded\n"
     ]
    },
    {
     "name": "stderr",
     "output_type": "stream",
     "text": [
      "                 Class     Images  Instances      Box(P          R      mAP50  mAP50-95):  11%|█         | 1/9 [00:09<01:19,  9.90s/it]"
     ]
    },
    {
     "name": "stdout",
     "output_type": "stream",
     "text": [
      "WARNING ⚠️ NMS time limit 3.600s exceeded\n"
     ]
    },
    {
     "name": "stderr",
     "output_type": "stream",
     "text": [
      "                 Class     Images  Instances      Box(P          R      mAP50  mAP50-95):  22%|██▏       | 2/9 [00:15<00:50,  7.25s/it]"
     ]
    },
    {
     "name": "stdout",
     "output_type": "stream",
     "text": [
      "WARNING ⚠️ NMS time limit 3.600s exceeded\n"
     ]
    },
    {
     "name": "stderr",
     "output_type": "stream",
     "text": [
      "                 Class     Images  Instances      Box(P          R      mAP50  mAP50-95):  33%|███▎      | 3/9 [00:21<00:39,  6.60s/it]"
     ]
    },
    {
     "name": "stdout",
     "output_type": "stream",
     "text": [
      "WARNING ⚠️ NMS time limit 3.600s exceeded\n"
     ]
    },
    {
     "name": "stderr",
     "output_type": "stream",
     "text": [
      "                 Class     Images  Instances      Box(P          R      mAP50  mAP50-95):  44%|████▍     | 4/9 [00:26<00:30,  6.20s/it]"
     ]
    },
    {
     "name": "stdout",
     "output_type": "stream",
     "text": [
      "WARNING ⚠️ NMS time limit 3.600s exceeded\n"
     ]
    },
    {
     "name": "stderr",
     "output_type": "stream",
     "text": [
      "                 Class     Images  Instances      Box(P          R      mAP50  mAP50-95):  56%|█████▌    | 5/9 [00:33<00:24,  6.24s/it]"
     ]
    },
    {
     "name": "stdout",
     "output_type": "stream",
     "text": [
      "WARNING ⚠️ NMS time limit 3.600s exceeded\n"
     ]
    },
    {
     "name": "stderr",
     "output_type": "stream",
     "text": [
      "                 Class     Images  Instances      Box(P          R      mAP50  mAP50-95): 100%|██████████| 9/9 [00:55<00:00,  6.18s/it]\n"
     ]
    },
    {
     "name": "stdout",
     "output_type": "stream",
     "text": [
      "                   all        264        396      0.643      0.145      0.224     0.0856\n",
      "\n",
      "      Epoch    GPU_mem   box_loss   cls_loss   dfl_loss  Instances       Size\n"
     ]
    },
    {
     "name": "stderr",
     "output_type": "stream",
     "text": [
      "      2/100         0G     0.9426      1.056      1.016          8        640: 100%|██████████| 75/75 [02:26<00:00,  1.95s/it]\n",
      "                 Class     Images  Instances      Box(P          R      mAP50  mAP50-95):   0%|          | 0/9 [00:00<?, ?it/s]"
     ]
    },
    {
     "name": "stdout",
     "output_type": "stream",
     "text": [
      "WARNING ⚠️ NMS time limit 3.600s exceeded\n"
     ]
    },
    {
     "name": "stderr",
     "output_type": "stream",
     "text": [
      "                 Class     Images  Instances      Box(P          R      mAP50  mAP50-95):  11%|█         | 1/9 [00:04<00:35,  4.39s/it]"
     ]
    },
    {
     "name": "stdout",
     "output_type": "stream",
     "text": [
      "WARNING ⚠️ NMS time limit 3.600s exceeded\n"
     ]
    },
    {
     "name": "stderr",
     "output_type": "stream",
     "text": [
      "                 Class     Images  Instances      Box(P          R      mAP50  mAP50-95):  22%|██▏       | 2/9 [00:08<00:30,  4.39s/it]"
     ]
    },
    {
     "name": "stdout",
     "output_type": "stream",
     "text": [
      "WARNING ⚠️ NMS time limit 3.600s exceeded\n"
     ]
    },
    {
     "name": "stderr",
     "output_type": "stream",
     "text": [
      "                 Class     Images  Instances      Box(P          R      mAP50  mAP50-95):  33%|███▎      | 3/9 [00:14<00:28,  4.83s/it]"
     ]
    },
    {
     "name": "stdout",
     "output_type": "stream",
     "text": [
      "WARNING ⚠️ NMS time limit 3.600s exceeded\n"
     ]
    },
    {
     "name": "stderr",
     "output_type": "stream",
     "text": [
      "                 Class     Images  Instances      Box(P          R      mAP50  mAP50-95):  44%|████▍     | 4/9 [00:19<00:24,  4.91s/it]"
     ]
    },
    {
     "name": "stdout",
     "output_type": "stream",
     "text": [
      "WARNING ⚠️ NMS time limit 3.600s exceeded\n"
     ]
    },
    {
     "name": "stderr",
     "output_type": "stream",
     "text": [
      "                 Class     Images  Instances      Box(P          R      mAP50  mAP50-95):  56%|█████▌    | 5/9 [00:24<00:19,  4.98s/it]"
     ]
    },
    {
     "name": "stdout",
     "output_type": "stream",
     "text": [
      "WARNING ⚠️ NMS time limit 3.600s exceeded\n"
     ]
    },
    {
     "name": "stderr",
     "output_type": "stream",
     "text": [
      "                 Class     Images  Instances      Box(P          R      mAP50  mAP50-95):  67%|██████▋   | 6/9 [00:29<00:15,  5.09s/it]"
     ]
    },
    {
     "name": "stdout",
     "output_type": "stream",
     "text": [
      "WARNING ⚠️ NMS time limit 3.600s exceeded\n"
     ]
    },
    {
     "name": "stderr",
     "output_type": "stream",
     "text": [
      "                 Class     Images  Instances      Box(P          R      mAP50  mAP50-95):  78%|███████▊  | 7/9 [00:34<00:10,  5.10s/it]"
     ]
    },
    {
     "name": "stdout",
     "output_type": "stream",
     "text": [
      "WARNING ⚠️ NMS time limit 3.600s exceeded\n"
     ]
    },
    {
     "name": "stderr",
     "output_type": "stream",
     "text": [
      "                 Class     Images  Instances      Box(P          R      mAP50  mAP50-95):  89%|████████▉ | 8/9 [00:39<00:05,  5.15s/it]"
     ]
    },
    {
     "name": "stdout",
     "output_type": "stream",
     "text": [
      "WARNING ⚠️ NMS time limit 2.400s exceeded\n"
     ]
    },
    {
     "name": "stderr",
     "output_type": "stream",
     "text": [
      "                 Class     Images  Instances      Box(P          R      mAP50  mAP50-95): 100%|██████████| 9/9 [00:43<00:00,  4.85s/it]\n"
     ]
    },
    {
     "name": "stdout",
     "output_type": "stream",
     "text": [
      "                   all        264        396      0.608     0.0657      0.066     0.0256\n",
      "\n",
      "      Epoch    GPU_mem   box_loss   cls_loss   dfl_loss  Instances       Size\n"
     ]
    },
    {
     "name": "stderr",
     "output_type": "stream",
     "text": [
      "      3/100         0G     0.9215     0.8659      1.002          8        640: 100%|██████████| 75/75 [03:14<00:00,  2.60s/it]\n",
      "                 Class     Images  Instances      Box(P          R      mAP50  mAP50-95):   0%|          | 0/9 [00:00<?, ?it/s]"
     ]
    },
    {
     "name": "stdout",
     "output_type": "stream",
     "text": [
      "WARNING ⚠️ NMS time limit 3.600s exceeded\n"
     ]
    },
    {
     "name": "stderr",
     "output_type": "stream",
     "text": [
      "                 Class     Images  Instances      Box(P          R      mAP50  mAP50-95):  11%|█         | 1/9 [00:04<00:37,  4.71s/it]"
     ]
    },
    {
     "name": "stdout",
     "output_type": "stream",
     "text": [
      "WARNING ⚠️ NMS time limit 3.600s exceeded\n"
     ]
    },
    {
     "name": "stderr",
     "output_type": "stream",
     "text": [
      "                 Class     Images  Instances      Box(P          R      mAP50  mAP50-95):  22%|██▏       | 2/9 [00:10<00:37,  5.33s/it]"
     ]
    },
    {
     "name": "stdout",
     "output_type": "stream",
     "text": [
      "WARNING ⚠️ NMS time limit 3.600s exceeded\n"
     ]
    },
    {
     "name": "stderr",
     "output_type": "stream",
     "text": [
      "                 Class     Images  Instances      Box(P          R      mAP50  mAP50-95):  33%|███▎      | 3/9 [00:15<00:29,  4.98s/it]"
     ]
    },
    {
     "name": "stdout",
     "output_type": "stream",
     "text": [
      "WARNING ⚠️ NMS time limit 3.600s exceeded\n"
     ]
    },
    {
     "name": "stderr",
     "output_type": "stream",
     "text": [
      "                 Class     Images  Instances      Box(P          R      mAP50  mAP50-95):  44%|████▍     | 4/9 [00:19<00:24,  4.82s/it]"
     ]
    },
    {
     "name": "stdout",
     "output_type": "stream",
     "text": [
      "WARNING ⚠️ NMS time limit 3.600s exceeded\n"
     ]
    },
    {
     "name": "stderr",
     "output_type": "stream",
     "text": [
      "                 Class     Images  Instances      Box(P          R      mAP50  mAP50-95):  56%|█████▌    | 5/9 [00:24<00:18,  4.73s/it]"
     ]
    },
    {
     "name": "stdout",
     "output_type": "stream",
     "text": [
      "WARNING ⚠️ NMS time limit 3.600s exceeded\n"
     ]
    },
    {
     "name": "stderr",
     "output_type": "stream",
     "text": [
      "                 Class     Images  Instances      Box(P          R      mAP50  mAP50-95):  67%|██████▋   | 6/9 [00:29<00:14,  4.76s/it]"
     ]
    },
    {
     "name": "stdout",
     "output_type": "stream",
     "text": [
      "WARNING ⚠️ NMS time limit 3.600s exceeded\n"
     ]
    },
    {
     "name": "stderr",
     "output_type": "stream",
     "text": [
      "                 Class     Images  Instances      Box(P          R      mAP50  mAP50-95):  78%|███████▊  | 7/9 [00:33<00:09,  4.73s/it]"
     ]
    },
    {
     "name": "stdout",
     "output_type": "stream",
     "text": [
      "WARNING ⚠️ NMS time limit 3.600s exceeded\n"
     ]
    },
    {
     "name": "stderr",
     "output_type": "stream",
     "text": [
      "                 Class     Images  Instances      Box(P          R      mAP50  mAP50-95):  89%|████████▉ | 8/9 [00:39<00:05,  5.00s/it]"
     ]
    },
    {
     "name": "stdout",
     "output_type": "stream",
     "text": [
      "WARNING ⚠️ NMS time limit 2.400s exceeded\n"
     ]
    },
    {
     "name": "stderr",
     "output_type": "stream",
     "text": [
      "                 Class     Images  Instances      Box(P          R      mAP50  mAP50-95): 100%|██████████| 9/9 [00:43<00:00,  4.83s/it]\n"
     ]
    },
    {
     "name": "stdout",
     "output_type": "stream",
     "text": [
      "                   all        264        396      0.698     0.0606     0.0529     0.0219\n",
      "\n",
      "      Epoch    GPU_mem   box_loss   cls_loss   dfl_loss  Instances       Size\n"
     ]
    },
    {
     "name": "stderr",
     "output_type": "stream",
     "text": [
      "      4/100         0G     0.8301     0.6844     0.9638         10        640: 100%|██████████| 75/75 [03:18<00:00,  2.64s/it]\n",
      "                 Class     Images  Instances      Box(P          R      mAP50  mAP50-95):   0%|          | 0/9 [00:00<?, ?it/s]"
     ]
    },
    {
     "name": "stdout",
     "output_type": "stream",
     "text": [
      "WARNING ⚠️ NMS time limit 3.600s exceeded\n"
     ]
    },
    {
     "name": "stderr",
     "output_type": "stream",
     "text": [
      "                 Class     Images  Instances      Box(P          R      mAP50  mAP50-95):  11%|█         | 1/9 [00:09<01:15,  9.43s/it]"
     ]
    },
    {
     "name": "stdout",
     "output_type": "stream",
     "text": [
      "WARNING ⚠️ NMS time limit 3.600s exceeded\n"
     ]
    },
    {
     "name": "stderr",
     "output_type": "stream",
     "text": [
      "                 Class     Images  Instances      Box(P          R      mAP50  mAP50-95):  22%|██▏       | 2/9 [00:17<01:01,  8.73s/it]"
     ]
    },
    {
     "name": "stdout",
     "output_type": "stream",
     "text": [
      "WARNING ⚠️ NMS time limit 3.600s exceeded\n"
     ]
    },
    {
     "name": "stderr",
     "output_type": "stream",
     "text": [
      "                 Class     Images  Instances      Box(P          R      mAP50  mAP50-95):  33%|███▎      | 3/9 [00:26<00:53,  8.94s/it]"
     ]
    },
    {
     "name": "stdout",
     "output_type": "stream",
     "text": [
      "WARNING ⚠️ NMS time limit 3.600s exceeded\n"
     ]
    },
    {
     "name": "stderr",
     "output_type": "stream",
     "text": [
      "                 Class     Images  Instances      Box(P          R      mAP50  mAP50-95):  44%|████▍     | 4/9 [00:35<00:44,  8.85s/it]"
     ]
    },
    {
     "name": "stdout",
     "output_type": "stream",
     "text": [
      "WARNING ⚠️ NMS time limit 3.600s exceeded\n"
     ]
    },
    {
     "name": "stderr",
     "output_type": "stream",
     "text": [
      "                 Class     Images  Instances      Box(P          R      mAP50  mAP50-95):  56%|█████▌    | 5/9 [00:45<00:36,  9.16s/it]"
     ]
    },
    {
     "name": "stdout",
     "output_type": "stream",
     "text": [
      "WARNING ⚠️ NMS time limit 3.600s exceeded\n"
     ]
    },
    {
     "name": "stderr",
     "output_type": "stream",
     "text": [
      "                 Class     Images  Instances      Box(P          R      mAP50  mAP50-95):  67%|██████▋   | 6/9 [00:54<00:27,  9.24s/it]"
     ]
    },
    {
     "name": "stdout",
     "output_type": "stream",
     "text": [
      "WARNING ⚠️ NMS time limit 3.600s exceeded\n"
     ]
    },
    {
     "name": "stderr",
     "output_type": "stream",
     "text": [
      "                 Class     Images  Instances      Box(P          R      mAP50  mAP50-95):  78%|███████▊  | 7/9 [01:05<00:19,  9.65s/it]"
     ]
    },
    {
     "name": "stdout",
     "output_type": "stream",
     "text": [
      "WARNING ⚠️ NMS time limit 3.600s exceeded\n"
     ]
    },
    {
     "name": "stderr",
     "output_type": "stream",
     "text": [
      "                 Class     Images  Instances      Box(P          R      mAP50  mAP50-95):  89%|████████▉ | 8/9 [01:15<00:09,  9.87s/it]"
     ]
    },
    {
     "name": "stdout",
     "output_type": "stream",
     "text": [
      "WARNING ⚠️ NMS time limit 2.400s exceeded\n"
     ]
    },
    {
     "name": "stderr",
     "output_type": "stream",
     "text": [
      "                 Class     Images  Instances      Box(P          R      mAP50  mAP50-95): 100%|██████████| 9/9 [01:21<00:00,  9.02s/it]\n"
     ]
    },
    {
     "name": "stdout",
     "output_type": "stream",
     "text": [
      "                   all        264        396      0.811     0.0657     0.0693     0.0321\n",
      "\n",
      "      Epoch    GPU_mem   box_loss   cls_loss   dfl_loss  Instances       Size\n"
     ]
    },
    {
     "name": "stderr",
     "output_type": "stream",
     "text": [
      "      5/100         0G     0.7695      0.575     0.9348         10        640: 100%|██████████| 75/75 [03:09<00:00,  2.53s/it]\n",
      "                 Class     Images  Instances      Box(P          R      mAP50  mAP50-95):   0%|          | 0/9 [00:00<?, ?it/s]"
     ]
    },
    {
     "name": "stdout",
     "output_type": "stream",
     "text": [
      "WARNING ⚠️ NMS time limit 3.600s exceeded\n"
     ]
    },
    {
     "name": "stderr",
     "output_type": "stream",
     "text": [
      "                 Class     Images  Instances      Box(P          R      mAP50  mAP50-95):  11%|█         | 1/9 [00:09<01:18,  9.79s/it]"
     ]
    },
    {
     "name": "stdout",
     "output_type": "stream",
     "text": [
      "WARNING ⚠️ NMS time limit 3.600s exceeded\n"
     ]
    },
    {
     "name": "stderr",
     "output_type": "stream",
     "text": [
      "                 Class     Images  Instances      Box(P          R      mAP50  mAP50-95):  22%|██▏       | 2/9 [00:18<01:06,  9.43s/it]"
     ]
    },
    {
     "name": "stdout",
     "output_type": "stream",
     "text": [
      "WARNING ⚠️ NMS time limit 3.600s exceeded\n"
     ]
    },
    {
     "name": "stderr",
     "output_type": "stream",
     "text": [
      "                 Class     Images  Instances      Box(P          R      mAP50  mAP50-95):  33%|███▎      | 3/9 [00:25<00:49,  8.18s/it]"
     ]
    },
    {
     "name": "stdout",
     "output_type": "stream",
     "text": [
      "WARNING ⚠️ NMS time limit 3.600s exceeded\n"
     ]
    },
    {
     "name": "stderr",
     "output_type": "stream",
     "text": [
      "                 Class     Images  Instances      Box(P          R      mAP50  mAP50-95):  44%|████▍     | 4/9 [00:33<00:40,  8.16s/it]"
     ]
    },
    {
     "name": "stdout",
     "output_type": "stream",
     "text": [
      "WARNING ⚠️ NMS time limit 3.600s exceeded\n"
     ]
    },
    {
     "name": "stderr",
     "output_type": "stream",
     "text": [
      "                 Class     Images  Instances      Box(P          R      mAP50  mAP50-95):  56%|█████▌    | 5/9 [00:41<00:31,  7.99s/it]"
     ]
    },
    {
     "name": "stdout",
     "output_type": "stream",
     "text": [
      "WARNING ⚠️ NMS time limit 3.600s exceeded\n"
     ]
    },
    {
     "name": "stderr",
     "output_type": "stream",
     "text": [
      "                 Class     Images  Instances      Box(P          R      mAP50  mAP50-95):  67%|██████▋   | 6/9 [00:52<00:27,  9.04s/it]"
     ]
    },
    {
     "name": "stdout",
     "output_type": "stream",
     "text": [
      "WARNING ⚠️ NMS time limit 3.600s exceeded\n"
     ]
    },
    {
     "name": "stderr",
     "output_type": "stream",
     "text": [
      "                 Class     Images  Instances      Box(P          R      mAP50  mAP50-95):  78%|███████▊  | 7/9 [01:04<00:19,  9.86s/it]"
     ]
    },
    {
     "name": "stdout",
     "output_type": "stream",
     "text": [
      "WARNING ⚠️ NMS time limit 3.600s exceeded\n"
     ]
    },
    {
     "name": "stderr",
     "output_type": "stream",
     "text": [
      "                 Class     Images  Instances      Box(P          R      mAP50  mAP50-95):  89%|████████▉ | 8/9 [01:11<00:09,  9.06s/it]"
     ]
    },
    {
     "name": "stdout",
     "output_type": "stream",
     "text": [
      "WARNING ⚠️ NMS time limit 2.400s exceeded\n"
     ]
    },
    {
     "name": "stderr",
     "output_type": "stream",
     "text": [
      "                 Class     Images  Instances      Box(P          R      mAP50  mAP50-95): 100%|██████████| 9/9 [01:17<00:00,  8.60s/it]\n"
     ]
    },
    {
     "name": "stdout",
     "output_type": "stream",
     "text": [
      "                   all        264        396      0.656     0.0631     0.0628     0.0253\n",
      "\n",
      "      Epoch    GPU_mem   box_loss   cls_loss   dfl_loss  Instances       Size\n"
     ]
    },
    {
     "name": "stderr",
     "output_type": "stream",
     "text": [
      "      6/100         0G      0.777     0.5412     0.9357         10        640: 100%|██████████| 75/75 [04:00<00:00,  3.21s/it]\n",
      "                 Class     Images  Instances      Box(P          R      mAP50  mAP50-95):   0%|          | 0/9 [00:00<?, ?it/s]"
     ]
    },
    {
     "name": "stdout",
     "output_type": "stream",
     "text": [
      "WARNING ⚠️ NMS time limit 3.600s exceeded\n"
     ]
    },
    {
     "name": "stderr",
     "output_type": "stream",
     "text": [
      "                 Class     Images  Instances      Box(P          R      mAP50  mAP50-95):  11%|█         | 1/9 [00:14<01:55, 14.45s/it]"
     ]
    },
    {
     "name": "stdout",
     "output_type": "stream",
     "text": [
      "WARNING ⚠️ NMS time limit 3.600s exceeded\n"
     ]
    },
    {
     "name": "stderr",
     "output_type": "stream",
     "text": [
      "                 Class     Images  Instances      Box(P          R      mAP50  mAP50-95):  22%|██▏       | 2/9 [00:26<01:30, 12.99s/it]"
     ]
    },
    {
     "name": "stdout",
     "output_type": "stream",
     "text": [
      "WARNING ⚠️ NMS time limit 3.600s exceeded\n"
     ]
    },
    {
     "name": "stderr",
     "output_type": "stream",
     "text": [
      "                 Class     Images  Instances      Box(P          R      mAP50  mAP50-95):  33%|███▎      | 3/9 [00:37<01:12, 12.04s/it]"
     ]
    },
    {
     "name": "stdout",
     "output_type": "stream",
     "text": [
      "WARNING ⚠️ NMS time limit 3.600s exceeded\n"
     ]
    },
    {
     "name": "stderr",
     "output_type": "stream",
     "text": [
      "                 Class     Images  Instances      Box(P          R      mAP50  mAP50-95):  44%|████▍     | 4/9 [00:48<00:58, 11.67s/it]"
     ]
    },
    {
     "name": "stdout",
     "output_type": "stream",
     "text": [
      "WARNING ⚠️ NMS time limit 3.600s exceeded\n"
     ]
    },
    {
     "name": "stderr",
     "output_type": "stream",
     "text": [
      "                 Class     Images  Instances      Box(P          R      mAP50  mAP50-95):  56%|█████▌    | 5/9 [00:54<00:38,  9.64s/it]"
     ]
    },
    {
     "name": "stdout",
     "output_type": "stream",
     "text": [
      "WARNING ⚠️ NMS time limit 3.600s exceeded\n"
     ]
    },
    {
     "name": "stderr",
     "output_type": "stream",
     "text": [
      "                 Class     Images  Instances      Box(P          R      mAP50  mAP50-95):  67%|██████▋   | 6/9 [01:04<00:29,  9.75s/it]"
     ]
    },
    {
     "name": "stdout",
     "output_type": "stream",
     "text": [
      "WARNING ⚠️ NMS time limit 3.600s exceeded\n"
     ]
    },
    {
     "name": "stderr",
     "output_type": "stream",
     "text": [
      "                 Class     Images  Instances      Box(P          R      mAP50  mAP50-95):  78%|███████▊  | 7/9 [01:14<00:19,  9.70s/it]"
     ]
    },
    {
     "name": "stdout",
     "output_type": "stream",
     "text": [
      "WARNING ⚠️ NMS time limit 3.600s exceeded\n"
     ]
    },
    {
     "name": "stderr",
     "output_type": "stream",
     "text": [
      "                 Class     Images  Instances      Box(P          R      mAP50  mAP50-95):  89%|████████▉ | 8/9 [01:22<00:09,  9.29s/it]"
     ]
    },
    {
     "name": "stdout",
     "output_type": "stream",
     "text": [
      "WARNING ⚠️ NMS time limit 2.400s exceeded\n"
     ]
    },
    {
     "name": "stderr",
     "output_type": "stream",
     "text": [
      "                 Class     Images  Instances      Box(P          R      mAP50  mAP50-95): 100%|██████████| 9/9 [01:26<00:00,  9.60s/it]\n"
     ]
    },
    {
     "name": "stdout",
     "output_type": "stream",
     "text": [
      "                   all        264        396      0.779     0.0758     0.0953     0.0536\n",
      "\n",
      "      Epoch    GPU_mem   box_loss   cls_loss   dfl_loss  Instances       Size\n"
     ]
    },
    {
     "name": "stderr",
     "output_type": "stream",
     "text": [
      "      7/100         0G     0.7126     0.5004      0.922          5        640: 100%|██████████| 75/75 [04:39<00:00,  3.72s/it]\n",
      "                 Class     Images  Instances      Box(P          R      mAP50  mAP50-95):   0%|          | 0/9 [00:00<?, ?it/s]"
     ]
    },
    {
     "name": "stdout",
     "output_type": "stream",
     "text": [
      "WARNING ⚠️ NMS time limit 3.600s exceeded\n"
     ]
    },
    {
     "name": "stderr",
     "output_type": "stream",
     "text": [
      "                 Class     Images  Instances      Box(P          R      mAP50  mAP50-95):  11%|█         | 1/9 [00:07<01:01,  7.73s/it]"
     ]
    },
    {
     "name": "stdout",
     "output_type": "stream",
     "text": [
      "WARNING ⚠️ NMS time limit 3.600s exceeded\n"
     ]
    },
    {
     "name": "stderr",
     "output_type": "stream",
     "text": [
      "                 Class     Images  Instances      Box(P          R      mAP50  mAP50-95):  22%|██▏       | 2/9 [00:16<00:56,  8.06s/it]"
     ]
    },
    {
     "name": "stdout",
     "output_type": "stream",
     "text": [
      "WARNING ⚠️ NMS time limit 3.600s exceeded\n"
     ]
    },
    {
     "name": "stderr",
     "output_type": "stream",
     "text": [
      "                 Class     Images  Instances      Box(P          R      mAP50  mAP50-95):  33%|███▎      | 3/9 [00:26<00:55,  9.29s/it]"
     ]
    },
    {
     "name": "stdout",
     "output_type": "stream",
     "text": [
      "WARNING ⚠️ NMS time limit 3.600s exceeded\n"
     ]
    },
    {
     "name": "stderr",
     "output_type": "stream",
     "text": [
      "                 Class     Images  Instances      Box(P          R      mAP50  mAP50-95):  44%|████▍     | 4/9 [00:35<00:46,  9.20s/it]"
     ]
    },
    {
     "name": "stdout",
     "output_type": "stream",
     "text": [
      "WARNING ⚠️ NMS time limit 3.600s exceeded\n"
     ]
    },
    {
     "name": "stderr",
     "output_type": "stream",
     "text": [
      "                 Class     Images  Instances      Box(P          R      mAP50  mAP50-95):  56%|█████▌    | 5/9 [00:41<00:31,  7.84s/it]"
     ]
    },
    {
     "name": "stdout",
     "output_type": "stream",
     "text": [
      "WARNING ⚠️ NMS time limit 3.600s exceeded\n"
     ]
    },
    {
     "name": "stderr",
     "output_type": "stream",
     "text": [
      "                 Class     Images  Instances      Box(P          R      mAP50  mAP50-95):  67%|██████▋   | 6/9 [00:51<00:25,  8.65s/it]"
     ]
    },
    {
     "name": "stdout",
     "output_type": "stream",
     "text": [
      "WARNING ⚠️ NMS time limit 3.600s exceeded\n"
     ]
    },
    {
     "name": "stderr",
     "output_type": "stream",
     "text": [
      "                 Class     Images  Instances      Box(P          R      mAP50  mAP50-95):  78%|███████▊  | 7/9 [01:01<00:18,  9.00s/it]"
     ]
    },
    {
     "name": "stdout",
     "output_type": "stream",
     "text": [
      "WARNING ⚠️ NMS time limit 3.600s exceeded\n"
     ]
    },
    {
     "name": "stderr",
     "output_type": "stream",
     "text": [
      "                 Class     Images  Instances      Box(P          R      mAP50  mAP50-95): 100%|██████████| 9/9 [01:06<00:00,  7.42s/it]\n"
     ]
    },
    {
     "name": "stdout",
     "output_type": "stream",
     "text": [
      "                   all        264        396      0.897       0.11       0.26      0.155\n",
      "\n",
      "      Epoch    GPU_mem   box_loss   cls_loss   dfl_loss  Instances       Size\n"
     ]
    },
    {
     "name": "stderr",
     "output_type": "stream",
     "text": [
      "      8/100         0G     0.6926      0.468     0.9089          7        640: 100%|██████████| 75/75 [04:14<00:00,  3.39s/it]\n",
      "                 Class     Images  Instances      Box(P          R      mAP50  mAP50-95):   0%|          | 0/9 [00:00<?, ?it/s]"
     ]
    },
    {
     "name": "stdout",
     "output_type": "stream",
     "text": [
      "WARNING ⚠️ NMS time limit 3.600s exceeded\n"
     ]
    },
    {
     "name": "stderr",
     "output_type": "stream",
     "text": [
      "                 Class     Images  Instances      Box(P          R      mAP50  mAP50-95):  11%|█         | 1/9 [00:12<01:36, 12.11s/it]"
     ]
    },
    {
     "name": "stdout",
     "output_type": "stream",
     "text": [
      "WARNING ⚠️ NMS time limit 3.600s exceeded\n"
     ]
    },
    {
     "name": "stderr",
     "output_type": "stream",
     "text": [
      "                 Class     Images  Instances      Box(P          R      mAP50  mAP50-95):  22%|██▏       | 2/9 [00:27<01:39, 14.28s/it]"
     ]
    },
    {
     "name": "stdout",
     "output_type": "stream",
     "text": [
      "WARNING ⚠️ NMS time limit 3.600s exceeded\n"
     ]
    },
    {
     "name": "stderr",
     "output_type": "stream",
     "text": [
      "                 Class     Images  Instances      Box(P          R      mAP50  mAP50-95):  33%|███▎      | 3/9 [00:36<01:08, 11.45s/it]"
     ]
    },
    {
     "name": "stdout",
     "output_type": "stream",
     "text": [
      "WARNING ⚠️ NMS time limit 3.600s exceeded\n"
     ]
    },
    {
     "name": "stderr",
     "output_type": "stream",
     "text": [
      "                 Class     Images  Instances      Box(P          R      mAP50  mAP50-95):  44%|████▍     | 4/9 [00:46<00:55, 11.10s/it]"
     ]
    },
    {
     "name": "stdout",
     "output_type": "stream",
     "text": [
      "WARNING ⚠️ NMS time limit 3.600s exceeded\n"
     ]
    },
    {
     "name": "stderr",
     "output_type": "stream",
     "text": [
      "                 Class     Images  Instances      Box(P          R      mAP50  mAP50-95):  56%|█████▌    | 5/9 [00:52<00:37,  9.25s/it]"
     ]
    },
    {
     "name": "stdout",
     "output_type": "stream",
     "text": [
      "WARNING ⚠️ NMS time limit 3.600s exceeded\n"
     ]
    },
    {
     "name": "stderr",
     "output_type": "stream",
     "text": [
      "                 Class     Images  Instances      Box(P          R      mAP50  mAP50-95):  67%|██████▋   | 6/9 [00:57<00:23,  7.74s/it]"
     ]
    },
    {
     "name": "stdout",
     "output_type": "stream",
     "text": [
      "WARNING ⚠️ NMS time limit 3.600s exceeded\n"
     ]
    },
    {
     "name": "stderr",
     "output_type": "stream",
     "text": [
      "                 Class     Images  Instances      Box(P          R      mAP50  mAP50-95):  78%|███████▊  | 7/9 [01:04<00:15,  7.64s/it]"
     ]
    },
    {
     "name": "stdout",
     "output_type": "stream",
     "text": [
      "WARNING ⚠️ NMS time limit 3.600s exceeded\n"
     ]
    },
    {
     "name": "stderr",
     "output_type": "stream",
     "text": [
      "                 Class     Images  Instances      Box(P          R      mAP50  mAP50-95):  89%|████████▉ | 8/9 [01:11<00:07,  7.20s/it]"
     ]
    },
    {
     "name": "stdout",
     "output_type": "stream",
     "text": [
      "WARNING ⚠️ NMS time limit 2.400s exceeded\n"
     ]
    },
    {
     "name": "stderr",
     "output_type": "stream",
     "text": [
      "                 Class     Images  Instances      Box(P          R      mAP50  mAP50-95): 100%|██████████| 9/9 [01:15<00:00,  8.39s/it]\n"
     ]
    },
    {
     "name": "stdout",
     "output_type": "stream",
     "text": [
      "                   all        264        396      0.732      0.179      0.193      0.112\n",
      "\n",
      "      Epoch    GPU_mem   box_loss   cls_loss   dfl_loss  Instances       Size\n"
     ]
    },
    {
     "name": "stderr",
     "output_type": "stream",
     "text": [
      "      9/100         0G     0.6993     0.4592     0.9102         10        640: 100%|██████████| 75/75 [04:12<00:00,  3.37s/it]\n",
      "                 Class     Images  Instances      Box(P          R      mAP50  mAP50-95):   0%|          | 0/9 [00:00<?, ?it/s]"
     ]
    },
    {
     "name": "stdout",
     "output_type": "stream",
     "text": [
      "WARNING ⚠️ NMS time limit 3.600s exceeded\n"
     ]
    },
    {
     "name": "stderr",
     "output_type": "stream",
     "text": [
      "                 Class     Images  Instances      Box(P          R      mAP50  mAP50-95): 100%|██████████| 9/9 [00:30<00:00,  3.35s/it]\n"
     ]
    },
    {
     "name": "stdout",
     "output_type": "stream",
     "text": [
      "                   all        264        396      0.889      0.667      0.722      0.335\n",
      "\n",
      "      Epoch    GPU_mem   box_loss   cls_loss   dfl_loss  Instances       Size\n"
     ]
    },
    {
     "name": "stderr",
     "output_type": "stream",
     "text": [
      "     10/100         0G     0.6854     0.4419     0.9089          8        640: 100%|██████████| 75/75 [04:09<00:00,  3.32s/it]\n",
      "                 Class     Images  Instances      Box(P          R      mAP50  mAP50-95): 100%|██████████| 9/9 [00:29<00:00,  3.26s/it]\n"
     ]
    },
    {
     "name": "stdout",
     "output_type": "stream",
     "text": [
      "                   all        264        396      0.841      0.616      0.683      0.339\n",
      "\n",
      "      Epoch    GPU_mem   box_loss   cls_loss   dfl_loss  Instances       Size\n"
     ]
    },
    {
     "name": "stderr",
     "output_type": "stream",
     "text": [
      "     11/100         0G     0.6518     0.4335      0.902          5        640: 100%|██████████| 75/75 [04:13<00:00,  3.38s/it]\n",
      "                 Class     Images  Instances      Box(P          R      mAP50  mAP50-95):  11%|█         | 1/9 [00:02<00:22,  2.76s/it]"
     ]
    },
    {
     "name": "stdout",
     "output_type": "stream",
     "text": [
      "WARNING ⚠️ NMS time limit 3.600s exceeded\n"
     ]
    },
    {
     "name": "stderr",
     "output_type": "stream",
     "text": [
      "                 Class     Images  Instances      Box(P          R      mAP50  mAP50-95):  22%|██▏       | 2/9 [00:07<00:28,  4.02s/it]"
     ]
    },
    {
     "name": "stdout",
     "output_type": "stream",
     "text": [
      "WARNING ⚠️ NMS time limit 3.600s exceeded\n"
     ]
    },
    {
     "name": "stderr",
     "output_type": "stream",
     "text": [
      "                 Class     Images  Instances      Box(P          R      mAP50  mAP50-95):  67%|██████▋   | 6/9 [00:22<00:10,  3.41s/it]"
     ]
    },
    {
     "name": "stdout",
     "output_type": "stream",
     "text": [
      "WARNING ⚠️ NMS time limit 3.600s exceeded\n"
     ]
    },
    {
     "name": "stderr",
     "output_type": "stream",
     "text": [
      "                 Class     Images  Instances      Box(P          R      mAP50  mAP50-95):  78%|███████▊  | 7/9 [00:27<00:08,  4.17s/it]"
     ]
    },
    {
     "name": "stdout",
     "output_type": "stream",
     "text": [
      "WARNING ⚠️ NMS time limit 3.600s exceeded\n"
     ]
    },
    {
     "name": "stderr",
     "output_type": "stream",
     "text": [
      "                 Class     Images  Instances      Box(P          R      mAP50  mAP50-95): 100%|██████████| 9/9 [00:36<00:00,  4.11s/it]\n"
     ]
    },
    {
     "name": "stdout",
     "output_type": "stream",
     "text": [
      "                   all        264        396      0.855      0.515       0.57      0.323\n",
      "\n",
      "      Epoch    GPU_mem   box_loss   cls_loss   dfl_loss  Instances       Size\n"
     ]
    },
    {
     "name": "stderr",
     "output_type": "stream",
     "text": [
      "     12/100         0G     0.6201     0.4089     0.8835          8        640: 100%|██████████| 75/75 [06:11<00:00,  4.95s/it]\n",
      "                 Class     Images  Instances      Box(P          R      mAP50  mAP50-95):   0%|          | 0/9 [00:00<?, ?it/s]"
     ]
    },
    {
     "name": "stdout",
     "output_type": "stream",
     "text": [
      "WARNING ⚠️ NMS time limit 3.600s exceeded\n"
     ]
    },
    {
     "name": "stderr",
     "output_type": "stream",
     "text": [
      "                 Class     Images  Instances      Box(P          R      mAP50  mAP50-95):  22%|██▏       | 2/9 [00:10<00:35,  5.13s/it]"
     ]
    },
    {
     "name": "stdout",
     "output_type": "stream",
     "text": [
      "WARNING ⚠️ NMS time limit 3.600s exceeded\n"
     ]
    },
    {
     "name": "stderr",
     "output_type": "stream",
     "text": [
      "                 Class     Images  Instances      Box(P          R      mAP50  mAP50-95): 100%|██████████| 9/9 [00:33<00:00,  3.71s/it]\n"
     ]
    },
    {
     "name": "stdout",
     "output_type": "stream",
     "text": [
      "                   all        264        396      0.833      0.491      0.525      0.238\n",
      "\n",
      "      Epoch    GPU_mem   box_loss   cls_loss   dfl_loss  Instances       Size\n"
     ]
    },
    {
     "name": "stderr",
     "output_type": "stream",
     "text": [
      "     13/100         0G     0.6197     0.4071     0.8892          5        640: 100%|██████████| 75/75 [04:09<00:00,  3.33s/it]\n",
      "                 Class     Images  Instances      Box(P          R      mAP50  mAP50-95): 100%|██████████| 9/9 [00:28<00:00,  3.12s/it]\n"
     ]
    },
    {
     "name": "stdout",
     "output_type": "stream",
     "text": [
      "                   all        264        396      0.802      0.631      0.635      0.327\n",
      "\n",
      "      Epoch    GPU_mem   box_loss   cls_loss   dfl_loss  Instances       Size\n"
     ]
    },
    {
     "name": "stderr",
     "output_type": "stream",
     "text": [
      "     14/100         0G     0.5943     0.3926     0.8785          6        640: 100%|██████████| 75/75 [18:35<00:00, 14.87s/it]   \n",
      "                 Class     Images  Instances      Box(P          R      mAP50  mAP50-95): 100%|██████████| 9/9 [00:18<00:00,  2.07s/it]\n"
     ]
    },
    {
     "name": "stdout",
     "output_type": "stream",
     "text": [
      "                   all        264        396      0.929      0.654      0.769      0.427\n",
      "\n",
      "      Epoch    GPU_mem   box_loss   cls_loss   dfl_loss  Instances       Size\n"
     ]
    },
    {
     "name": "stderr",
     "output_type": "stream",
     "text": [
      "     15/100         0G     0.5792     0.3823     0.8681          2        640: 100%|██████████| 75/75 [04:40<00:00,  3.73s/it]\n",
      "                 Class     Images  Instances      Box(P          R      mAP50  mAP50-95):  67%|██████▋   | 6/9 [00:21<00:11,  3.79s/it]"
     ]
    },
    {
     "name": "stdout",
     "output_type": "stream",
     "text": [
      "WARNING ⚠️ NMS time limit 3.600s exceeded\n"
     ]
    },
    {
     "name": "stderr",
     "output_type": "stream",
     "text": [
      "                 Class     Images  Instances      Box(P          R      mAP50  mAP50-95): 100%|██████████| 9/9 [00:32<00:00,  3.59s/it]\n"
     ]
    },
    {
     "name": "stdout",
     "output_type": "stream",
     "text": [
      "                   all        264        396      0.798      0.571      0.624      0.327\n",
      "\n",
      "      Epoch    GPU_mem   box_loss   cls_loss   dfl_loss  Instances       Size\n"
     ]
    },
    {
     "name": "stderr",
     "output_type": "stream",
     "text": [
      "     16/100         0G     0.5876      0.375     0.8767          9        640: 100%|██████████| 75/75 [13:37<00:00, 10.90s/it] \n",
      "                 Class     Images  Instances      Box(P          R      mAP50  mAP50-95): 100%|██████████| 9/9 [00:22<00:00,  2.45s/it]\n"
     ]
    },
    {
     "name": "stdout",
     "output_type": "stream",
     "text": [
      "                   all        264        396      0.874      0.649      0.679      0.327\n",
      "\n",
      "      Epoch    GPU_mem   box_loss   cls_loss   dfl_loss  Instances       Size\n"
     ]
    },
    {
     "name": "stderr",
     "output_type": "stream",
     "text": [
      "     17/100         0G     0.5666     0.3727     0.8682          6        640: 100%|██████████| 75/75 [05:30<00:00,  4.41s/it]\n",
      "                 Class     Images  Instances      Box(P          R      mAP50  mAP50-95):  11%|█         | 1/9 [00:04<00:34,  4.33s/it]"
     ]
    },
    {
     "name": "stdout",
     "output_type": "stream",
     "text": [
      "WARNING ⚠️ NMS time limit 3.600s exceeded\n"
     ]
    },
    {
     "name": "stderr",
     "output_type": "stream",
     "text": [
      "                 Class     Images  Instances      Box(P          R      mAP50  mAP50-95):  22%|██▏       | 2/9 [00:10<00:36,  5.28s/it]"
     ]
    },
    {
     "name": "stdout",
     "output_type": "stream",
     "text": [
      "WARNING ⚠️ NMS time limit 3.600s exceeded\n"
     ]
    },
    {
     "name": "stderr",
     "output_type": "stream",
     "text": [
      "                 Class     Images  Instances      Box(P          R      mAP50  mAP50-95): 100%|██████████| 9/9 [00:40<00:00,  4.48s/it]\n"
     ]
    },
    {
     "name": "stdout",
     "output_type": "stream",
     "text": [
      "                   all        264        396      0.819      0.578      0.644      0.333\n",
      "\n",
      "      Epoch    GPU_mem   box_loss   cls_loss   dfl_loss  Instances       Size\n"
     ]
    },
    {
     "name": "stderr",
     "output_type": "stream",
     "text": [
      "     18/100         0G     0.5513     0.3562     0.8721          9        640: 100%|██████████| 75/75 [03:28<00:00,  2.78s/it]\n",
      "                 Class     Images  Instances      Box(P          R      mAP50  mAP50-95): 100%|██████████| 9/9 [00:17<00:00,  1.92s/it]\n"
     ]
    },
    {
     "name": "stdout",
     "output_type": "stream",
     "text": [
      "                   all        264        396      0.956      0.692      0.798      0.439\n",
      "\n",
      "      Epoch    GPU_mem   box_loss   cls_loss   dfl_loss  Instances       Size\n"
     ]
    },
    {
     "name": "stderr",
     "output_type": "stream",
     "text": [
      "     19/100         0G     0.5342     0.3481      0.868          5        640: 100%|██████████| 75/75 [04:26<00:00,  3.55s/it]\n",
      "                 Class     Images  Instances      Box(P          R      mAP50  mAP50-95): 100%|██████████| 9/9 [00:27<00:00,  3.03s/it]\n"
     ]
    },
    {
     "name": "stdout",
     "output_type": "stream",
     "text": [
      "                   all        264        396      0.901      0.674      0.804      0.442\n",
      "\n",
      "      Epoch    GPU_mem   box_loss   cls_loss   dfl_loss  Instances       Size\n"
     ]
    },
    {
     "name": "stderr",
     "output_type": "stream",
     "text": [
      "     20/100         0G     0.5244     0.3332     0.8572         12        640: 100%|██████████| 75/75 [04:55<00:00,  3.94s/it]\n",
      "                 Class     Images  Instances      Box(P          R      mAP50  mAP50-95): 100%|██████████| 9/9 [00:22<00:00,  2.53s/it]\n"
     ]
    },
    {
     "name": "stdout",
     "output_type": "stream",
     "text": [
      "                   all        264        396      0.958      0.707      0.812      0.464\n",
      "\n",
      "      Epoch    GPU_mem   box_loss   cls_loss   dfl_loss  Instances       Size\n"
     ]
    },
    {
     "name": "stderr",
     "output_type": "stream",
     "text": [
      "     21/100         0G     0.5215       0.34      0.858          7        640: 100%|██████████| 75/75 [04:54<00:00,  3.93s/it]\n",
      "                 Class     Images  Instances      Box(P          R      mAP50  mAP50-95): 100%|██████████| 9/9 [00:37<00:00,  4.17s/it]\n"
     ]
    },
    {
     "name": "stdout",
     "output_type": "stream",
     "text": [
      "                   all        264        396      0.805      0.631      0.608      0.305\n",
      "\n",
      "      Epoch    GPU_mem   box_loss   cls_loss   dfl_loss  Instances       Size\n"
     ]
    },
    {
     "name": "stderr",
     "output_type": "stream",
     "text": [
      "     22/100         0G     0.5028     0.3252     0.8581         11        640: 100%|██████████| 75/75 [04:51<00:00,  3.89s/it]\n",
      "                 Class     Images  Instances      Box(P          R      mAP50  mAP50-95): 100%|██████████| 9/9 [00:21<00:00,  2.42s/it]\n"
     ]
    },
    {
     "name": "stdout",
     "output_type": "stream",
     "text": [
      "                   all        264        396      0.932       0.66      0.779      0.405\n",
      "\n",
      "      Epoch    GPU_mem   box_loss   cls_loss   dfl_loss  Instances       Size\n"
     ]
    },
    {
     "name": "stderr",
     "output_type": "stream",
     "text": [
      "     23/100         0G     0.5071     0.3286     0.8587         10        640: 100%|██████████| 75/75 [05:27<00:00,  4.37s/it]\n",
      "                 Class     Images  Instances      Box(P          R      mAP50  mAP50-95):   0%|          | 0/9 [00:00<?, ?it/s]"
     ]
    },
    {
     "name": "stdout",
     "output_type": "stream",
     "text": [
      "WARNING ⚠️ NMS time limit 3.600s exceeded\n"
     ]
    },
    {
     "name": "stderr",
     "output_type": "stream",
     "text": [
      "                 Class     Images  Instances      Box(P          R      mAP50  mAP50-95):  11%|█         | 1/9 [00:04<00:36,  4.62s/it]"
     ]
    },
    {
     "name": "stdout",
     "output_type": "stream",
     "text": [
      "WARNING ⚠️ NMS time limit 3.600s exceeded\n"
     ]
    },
    {
     "name": "stderr",
     "output_type": "stream",
     "text": [
      "                 Class     Images  Instances      Box(P          R      mAP50  mAP50-95):  33%|███▎      | 3/9 [00:18<00:37,  6.22s/it]"
     ]
    },
    {
     "name": "stdout",
     "output_type": "stream",
     "text": [
      "WARNING ⚠️ NMS time limit 3.600s exceeded\n"
     ]
    },
    {
     "name": "stderr",
     "output_type": "stream",
     "text": [
      "                 Class     Images  Instances      Box(P          R      mAP50  mAP50-95): 100%|██████████| 9/9 [00:47<00:00,  5.25s/it]\n"
     ]
    },
    {
     "name": "stdout",
     "output_type": "stream",
     "text": [
      "                   all        264        396      0.877      0.591      0.612      0.271\n",
      "\n",
      "      Epoch    GPU_mem   box_loss   cls_loss   dfl_loss  Instances       Size\n"
     ]
    },
    {
     "name": "stderr",
     "output_type": "stream",
     "text": [
      "     24/100         0G     0.5042     0.3263     0.8477         11        640: 100%|██████████| 75/75 [05:33<00:00,  4.45s/it]\n",
      "                 Class     Images  Instances      Box(P          R      mAP50  mAP50-95):  22%|██▏       | 2/9 [00:08<00:28,  4.08s/it]"
     ]
    },
    {
     "name": "stdout",
     "output_type": "stream",
     "text": [
      "WARNING ⚠️ NMS time limit 3.600s exceeded\n"
     ]
    },
    {
     "name": "stderr",
     "output_type": "stream",
     "text": [
      "                 Class     Images  Instances      Box(P          R      mAP50  mAP50-95): 100%|██████████| 9/9 [00:38<00:00,  4.24s/it]\n"
     ]
    },
    {
     "name": "stdout",
     "output_type": "stream",
     "text": [
      "                   all        264        396      0.861      0.616      0.667       0.34\n",
      "\n",
      "      Epoch    GPU_mem   box_loss   cls_loss   dfl_loss  Instances       Size\n"
     ]
    },
    {
     "name": "stderr",
     "output_type": "stream",
     "text": [
      "     25/100         0G     0.4825     0.3156     0.8456          5        640: 100%|██████████| 75/75 [05:42<00:00,  4.57s/it]\n",
      "                 Class     Images  Instances      Box(P          R      mAP50  mAP50-95): 100%|██████████| 9/9 [00:10<00:00,  1.16s/it]\n"
     ]
    },
    {
     "name": "stdout",
     "output_type": "stream",
     "text": [
      "                   all        264        396      0.973      0.667      0.807      0.405\n",
      "\n",
      "      Epoch    GPU_mem   box_loss   cls_loss   dfl_loss  Instances       Size\n"
     ]
    },
    {
     "name": "stderr",
     "output_type": "stream",
     "text": [
      "     26/100         0G      0.475     0.3074     0.8523          4        640: 100%|██████████| 75/75 [05:04<00:00,  4.06s/it]\n",
      "                 Class     Images  Instances      Box(P          R      mAP50  mAP50-95): 100%|██████████| 9/9 [00:27<00:00,  3.10s/it]\n"
     ]
    },
    {
     "name": "stdout",
     "output_type": "stream",
     "text": [
      "                   all        264        396      0.925      0.679      0.774      0.389\n",
      "\n",
      "      Epoch    GPU_mem   box_loss   cls_loss   dfl_loss  Instances       Size\n"
     ]
    },
    {
     "name": "stderr",
     "output_type": "stream",
     "text": [
      "     27/100         0G     0.4654     0.3052     0.8418          7        640: 100%|██████████| 75/75 [05:27<00:00,  4.37s/it]\n",
      "                 Class     Images  Instances      Box(P          R      mAP50  mAP50-95): 100%|██████████| 9/9 [00:25<00:00,  2.86s/it]\n"
     ]
    },
    {
     "name": "stdout",
     "output_type": "stream",
     "text": [
      "                   all        264        396      0.886      0.593      0.684      0.349\n",
      "\n",
      "      Epoch    GPU_mem   box_loss   cls_loss   dfl_loss  Instances       Size\n"
     ]
    },
    {
     "name": "stderr",
     "output_type": "stream",
     "text": [
      "     28/100         0G     0.4653     0.3067     0.8538         15        640: 100%|██████████| 75/75 [06:15<00:00,  5.01s/it]\n",
      "                 Class     Images  Instances      Box(P          R      mAP50  mAP50-95): 100%|██████████| 9/9 [00:15<00:00,  1.69s/it]\n"
     ]
    },
    {
     "name": "stdout",
     "output_type": "stream",
     "text": [
      "                   all        264        396       0.93      0.649       0.74       0.36\n",
      "\n",
      "      Epoch    GPU_mem   box_loss   cls_loss   dfl_loss  Instances       Size\n"
     ]
    },
    {
     "name": "stderr",
     "output_type": "stream",
     "text": [
      "     29/100         0G     0.4659     0.3042     0.8456          8        640: 100%|██████████| 75/75 [05:56<00:00,  4.76s/it]\n",
      "                 Class     Images  Instances      Box(P          R      mAP50  mAP50-95): 100%|██████████| 9/9 [00:16<00:00,  1.79s/it]\n"
     ]
    },
    {
     "name": "stdout",
     "output_type": "stream",
     "text": [
      "                   all        264        396      0.954      0.677      0.779        0.4\n",
      "\n",
      "      Epoch    GPU_mem   box_loss   cls_loss   dfl_loss  Instances       Size\n"
     ]
    },
    {
     "name": "stderr",
     "output_type": "stream",
     "text": [
      "     30/100         0G     0.4419     0.2914      0.837          7        640: 100%|██████████| 75/75 [06:01<00:00,  4.82s/it]\n",
      "                 Class     Images  Instances      Box(P          R      mAP50  mAP50-95): 100%|██████████| 9/9 [00:16<00:00,  1.82s/it]\n"
     ]
    },
    {
     "name": "stdout",
     "output_type": "stream",
     "text": [
      "                   all        264        396      0.977      0.652      0.758      0.349\n",
      "Stopping training early as no improvement observed in last 10 epochs. Best results observed at epoch 20, best model saved as best.pt.\n",
      "To update EarlyStopping(patience=10) pass a new patience value, i.e. `patience=300` or use `patience=0` to disable EarlyStopping.\n",
      "\n",
      "30 epochs completed in 2.996 hours.\n",
      "Optimizer stripped from runs/detect/train3/weights/last.pt, 6.2MB\n",
      "Optimizer stripped from runs/detect/train3/weights/best.pt, 6.2MB\n",
      "\n",
      "Validating runs/detect/train3/weights/best.pt...\n",
      "Ultralytics YOLOv8.1.8 🚀 Python-3.11.7 torch-2.1.2 MPS (Apple M2)\n",
      "Model summary (fused): 168 layers, 3005843 parameters, 0 gradients, 8.1 GFLOPs\n"
     ]
    },
    {
     "name": "stderr",
     "output_type": "stream",
     "text": [
      "                 Class     Images  Instances      Box(P          R      mAP50  mAP50-95): 100%|██████████| 9/9 [00:57<00:00,  6.35s/it]\n"
     ]
    },
    {
     "name": "stdout",
     "output_type": "stream",
     "text": [
      "                   all        264        396      0.962      0.707      0.812      0.464\n",
      "Speed: 12.6ms preprocess, 84.2ms inference, 0.0ms loss, 64.1ms postprocess per image\n",
      "Results saved to \u001b[1mruns/detect/train3\u001b[0m\n"
     ]
    },
    {
     "data": {
      "text/plain": [
       "ultralytics.utils.metrics.DetMetrics object with attributes:\n",
       "\n",
       "ap_class_index: array([0])\n",
       "box: ultralytics.utils.metrics.Metric object\n",
       "confusion_matrix: <ultralytics.utils.metrics.ConfusionMatrix object at 0x53c72d190>\n",
       "curves: ['Precision-Recall(B)', 'F1-Confidence(B)', 'Precision-Confidence(B)', 'Recall-Confidence(B)']\n",
       "curves_results: [[array([          0,    0.001001,    0.002002,    0.003003,    0.004004,    0.005005,    0.006006,    0.007007,    0.008008,    0.009009,     0.01001,    0.011011,    0.012012,    0.013013,    0.014014,    0.015015,    0.016016,    0.017017,    0.018018,    0.019019,     0.02002,    0.021021,    0.022022,    0.023023,\n",
       "          0.024024,    0.025025,    0.026026,    0.027027,    0.028028,    0.029029,     0.03003,    0.031031,    0.032032,    0.033033,    0.034034,    0.035035,    0.036036,    0.037037,    0.038038,    0.039039,     0.04004,    0.041041,    0.042042,    0.043043,    0.044044,    0.045045,    0.046046,    0.047047,\n",
       "          0.048048,    0.049049,     0.05005,    0.051051,    0.052052,    0.053053,    0.054054,    0.055055,    0.056056,    0.057057,    0.058058,    0.059059,     0.06006,    0.061061,    0.062062,    0.063063,    0.064064,    0.065065,    0.066066,    0.067067,    0.068068,    0.069069,     0.07007,    0.071071,\n",
       "          0.072072,    0.073073,    0.074074,    0.075075,    0.076076,    0.077077,    0.078078,    0.079079,     0.08008,    0.081081,    0.082082,    0.083083,    0.084084,    0.085085,    0.086086,    0.087087,    0.088088,    0.089089,     0.09009,    0.091091,    0.092092,    0.093093,    0.094094,    0.095095,\n",
       "          0.096096,    0.097097,    0.098098,    0.099099,      0.1001,      0.1011,      0.1021,      0.1031,      0.1041,     0.10511,     0.10611,     0.10711,     0.10811,     0.10911,     0.11011,     0.11111,     0.11211,     0.11311,     0.11411,     0.11512,     0.11612,     0.11712,     0.11812,     0.11912,\n",
       "           0.12012,     0.12112,     0.12212,     0.12312,     0.12412,     0.12513,     0.12613,     0.12713,     0.12813,     0.12913,     0.13013,     0.13113,     0.13213,     0.13313,     0.13413,     0.13514,     0.13614,     0.13714,     0.13814,     0.13914,     0.14014,     0.14114,     0.14214,     0.14314,\n",
       "           0.14414,     0.14515,     0.14615,     0.14715,     0.14815,     0.14915,     0.15015,     0.15115,     0.15215,     0.15315,     0.15415,     0.15516,     0.15616,     0.15716,     0.15816,     0.15916,     0.16016,     0.16116,     0.16216,     0.16316,     0.16416,     0.16517,     0.16617,     0.16717,\n",
       "           0.16817,     0.16917,     0.17017,     0.17117,     0.17217,     0.17317,     0.17417,     0.17518,     0.17618,     0.17718,     0.17818,     0.17918,     0.18018,     0.18118,     0.18218,     0.18318,     0.18418,     0.18519,     0.18619,     0.18719,     0.18819,     0.18919,     0.19019,     0.19119,\n",
       "           0.19219,     0.19319,     0.19419,      0.1952,      0.1962,      0.1972,      0.1982,      0.1992,      0.2002,      0.2012,      0.2022,      0.2032,      0.2042,     0.20521,     0.20621,     0.20721,     0.20821,     0.20921,     0.21021,     0.21121,     0.21221,     0.21321,     0.21421,     0.21522,\n",
       "           0.21622,     0.21722,     0.21822,     0.21922,     0.22022,     0.22122,     0.22222,     0.22322,     0.22422,     0.22523,     0.22623,     0.22723,     0.22823,     0.22923,     0.23023,     0.23123,     0.23223,     0.23323,     0.23423,     0.23524,     0.23624,     0.23724,     0.23824,     0.23924,\n",
       "           0.24024,     0.24124,     0.24224,     0.24324,     0.24424,     0.24525,     0.24625,     0.24725,     0.24825,     0.24925,     0.25025,     0.25125,     0.25225,     0.25325,     0.25425,     0.25526,     0.25626,     0.25726,     0.25826,     0.25926,     0.26026,     0.26126,     0.26226,     0.26326,\n",
       "           0.26426,     0.26527,     0.26627,     0.26727,     0.26827,     0.26927,     0.27027,     0.27127,     0.27227,     0.27327,     0.27427,     0.27528,     0.27628,     0.27728,     0.27828,     0.27928,     0.28028,     0.28128,     0.28228,     0.28328,     0.28428,     0.28529,     0.28629,     0.28729,\n",
       "           0.28829,     0.28929,     0.29029,     0.29129,     0.29229,     0.29329,     0.29429,      0.2953,      0.2963,      0.2973,      0.2983,      0.2993,      0.3003,      0.3013,      0.3023,      0.3033,      0.3043,     0.30531,     0.30631,     0.30731,     0.30831,     0.30931,     0.31031,     0.31131,\n",
       "           0.31231,     0.31331,     0.31431,     0.31532,     0.31632,     0.31732,     0.31832,     0.31932,     0.32032,     0.32132,     0.32232,     0.32332,     0.32432,     0.32533,     0.32633,     0.32733,     0.32833,     0.32933,     0.33033,     0.33133,     0.33233,     0.33333,     0.33433,     0.33534,\n",
       "           0.33634,     0.33734,     0.33834,     0.33934,     0.34034,     0.34134,     0.34234,     0.34334,     0.34434,     0.34535,     0.34635,     0.34735,     0.34835,     0.34935,     0.35035,     0.35135,     0.35235,     0.35335,     0.35435,     0.35536,     0.35636,     0.35736,     0.35836,     0.35936,\n",
       "           0.36036,     0.36136,     0.36236,     0.36336,     0.36436,     0.36537,     0.36637,     0.36737,     0.36837,     0.36937,     0.37037,     0.37137,     0.37237,     0.37337,     0.37437,     0.37538,     0.37638,     0.37738,     0.37838,     0.37938,     0.38038,     0.38138,     0.38238,     0.38338,\n",
       "           0.38438,     0.38539,     0.38639,     0.38739,     0.38839,     0.38939,     0.39039,     0.39139,     0.39239,     0.39339,     0.39439,      0.3954,      0.3964,      0.3974,      0.3984,      0.3994,      0.4004,      0.4014,      0.4024,      0.4034,      0.4044,     0.40541,     0.40641,     0.40741,\n",
       "           0.40841,     0.40941,     0.41041,     0.41141,     0.41241,     0.41341,     0.41441,     0.41542,     0.41642,     0.41742,     0.41842,     0.41942,     0.42042,     0.42142,     0.42242,     0.42342,     0.42442,     0.42543,     0.42643,     0.42743,     0.42843,     0.42943,     0.43043,     0.43143,\n",
       "           0.43243,     0.43343,     0.43443,     0.43544,     0.43644,     0.43744,     0.43844,     0.43944,     0.44044,     0.44144,     0.44244,     0.44344,     0.44444,     0.44545,     0.44645,     0.44745,     0.44845,     0.44945,     0.45045,     0.45145,     0.45245,     0.45345,     0.45445,     0.45546,\n",
       "           0.45646,     0.45746,     0.45846,     0.45946,     0.46046,     0.46146,     0.46246,     0.46346,     0.46446,     0.46547,     0.46647,     0.46747,     0.46847,     0.46947,     0.47047,     0.47147,     0.47247,     0.47347,     0.47447,     0.47548,     0.47648,     0.47748,     0.47848,     0.47948,\n",
       "           0.48048,     0.48148,     0.48248,     0.48348,     0.48448,     0.48549,     0.48649,     0.48749,     0.48849,     0.48949,     0.49049,     0.49149,     0.49249,     0.49349,     0.49449,      0.4955,      0.4965,      0.4975,      0.4985,      0.4995,      0.5005,      0.5015,      0.5025,      0.5035,\n",
       "            0.5045,     0.50551,     0.50651,     0.50751,     0.50851,     0.50951,     0.51051,     0.51151,     0.51251,     0.51351,     0.51451,     0.51552,     0.51652,     0.51752,     0.51852,     0.51952,     0.52052,     0.52152,     0.52252,     0.52352,     0.52452,     0.52553,     0.52653,     0.52753,\n",
       "           0.52853,     0.52953,     0.53053,     0.53153,     0.53253,     0.53353,     0.53453,     0.53554,     0.53654,     0.53754,     0.53854,     0.53954,     0.54054,     0.54154,     0.54254,     0.54354,     0.54454,     0.54555,     0.54655,     0.54755,     0.54855,     0.54955,     0.55055,     0.55155,\n",
       "           0.55255,     0.55355,     0.55455,     0.55556,     0.55656,     0.55756,     0.55856,     0.55956,     0.56056,     0.56156,     0.56256,     0.56356,     0.56456,     0.56557,     0.56657,     0.56757,     0.56857,     0.56957,     0.57057,     0.57157,     0.57257,     0.57357,     0.57457,     0.57558,\n",
       "           0.57658,     0.57758,     0.57858,     0.57958,     0.58058,     0.58158,     0.58258,     0.58358,     0.58458,     0.58559,     0.58659,     0.58759,     0.58859,     0.58959,     0.59059,     0.59159,     0.59259,     0.59359,     0.59459,      0.5956,      0.5966,      0.5976,      0.5986,      0.5996,\n",
       "            0.6006,      0.6016,      0.6026,      0.6036,      0.6046,     0.60561,     0.60661,     0.60761,     0.60861,     0.60961,     0.61061,     0.61161,     0.61261,     0.61361,     0.61461,     0.61562,     0.61662,     0.61762,     0.61862,     0.61962,     0.62062,     0.62162,     0.62262,     0.62362,\n",
       "           0.62462,     0.62563,     0.62663,     0.62763,     0.62863,     0.62963,     0.63063,     0.63163,     0.63263,     0.63363,     0.63463,     0.63564,     0.63664,     0.63764,     0.63864,     0.63964,     0.64064,     0.64164,     0.64264,     0.64364,     0.64464,     0.64565,     0.64665,     0.64765,\n",
       "           0.64865,     0.64965,     0.65065,     0.65165,     0.65265,     0.65365,     0.65465,     0.65566,     0.65666,     0.65766,     0.65866,     0.65966,     0.66066,     0.66166,     0.66266,     0.66366,     0.66466,     0.66567,     0.66667,     0.66767,     0.66867,     0.66967,     0.67067,     0.67167,\n",
       "           0.67267,     0.67367,     0.67467,     0.67568,     0.67668,     0.67768,     0.67868,     0.67968,     0.68068,     0.68168,     0.68268,     0.68368,     0.68468,     0.68569,     0.68669,     0.68769,     0.68869,     0.68969,     0.69069,     0.69169,     0.69269,     0.69369,     0.69469,      0.6957,\n",
       "            0.6967,      0.6977,      0.6987,      0.6997,      0.7007,      0.7017,      0.7027,      0.7037,      0.7047,     0.70571,     0.70671,     0.70771,     0.70871,     0.70971,     0.71071,     0.71171,     0.71271,     0.71371,     0.71471,     0.71572,     0.71672,     0.71772,     0.71872,     0.71972,\n",
       "           0.72072,     0.72172,     0.72272,     0.72372,     0.72472,     0.72573,     0.72673,     0.72773,     0.72873,     0.72973,     0.73073,     0.73173,     0.73273,     0.73373,     0.73473,     0.73574,     0.73674,     0.73774,     0.73874,     0.73974,     0.74074,     0.74174,     0.74274,     0.74374,\n",
       "           0.74474,     0.74575,     0.74675,     0.74775,     0.74875,     0.74975,     0.75075,     0.75175,     0.75275,     0.75375,     0.75475,     0.75576,     0.75676,     0.75776,     0.75876,     0.75976,     0.76076,     0.76176,     0.76276,     0.76376,     0.76476,     0.76577,     0.76677,     0.76777,\n",
       "           0.76877,     0.76977,     0.77077,     0.77177,     0.77277,     0.77377,     0.77477,     0.77578,     0.77678,     0.77778,     0.77878,     0.77978,     0.78078,     0.78178,     0.78278,     0.78378,     0.78478,     0.78579,     0.78679,     0.78779,     0.78879,     0.78979,     0.79079,     0.79179,\n",
       "           0.79279,     0.79379,     0.79479,      0.7958,      0.7968,      0.7978,      0.7988,      0.7998,      0.8008,      0.8018,      0.8028,      0.8038,      0.8048,     0.80581,     0.80681,     0.80781,     0.80881,     0.80981,     0.81081,     0.81181,     0.81281,     0.81381,     0.81481,     0.81582,\n",
       "           0.81682,     0.81782,     0.81882,     0.81982,     0.82082,     0.82182,     0.82282,     0.82382,     0.82482,     0.82583,     0.82683,     0.82783,     0.82883,     0.82983,     0.83083,     0.83183,     0.83283,     0.83383,     0.83483,     0.83584,     0.83684,     0.83784,     0.83884,     0.83984,\n",
       "           0.84084,     0.84184,     0.84284,     0.84384,     0.84484,     0.84585,     0.84685,     0.84785,     0.84885,     0.84985,     0.85085,     0.85185,     0.85285,     0.85385,     0.85485,     0.85586,     0.85686,     0.85786,     0.85886,     0.85986,     0.86086,     0.86186,     0.86286,     0.86386,\n",
       "           0.86486,     0.86587,     0.86687,     0.86787,     0.86887,     0.86987,     0.87087,     0.87187,     0.87287,     0.87387,     0.87487,     0.87588,     0.87688,     0.87788,     0.87888,     0.87988,     0.88088,     0.88188,     0.88288,     0.88388,     0.88488,     0.88589,     0.88689,     0.88789,\n",
       "           0.88889,     0.88989,     0.89089,     0.89189,     0.89289,     0.89389,     0.89489,      0.8959,      0.8969,      0.8979,      0.8989,      0.8999,      0.9009,      0.9019,      0.9029,      0.9039,      0.9049,     0.90591,     0.90691,     0.90791,     0.90891,     0.90991,     0.91091,     0.91191,\n",
       "           0.91291,     0.91391,     0.91491,     0.91592,     0.91692,     0.91792,     0.91892,     0.91992,     0.92092,     0.92192,     0.92292,     0.92392,     0.92492,     0.92593,     0.92693,     0.92793,     0.92893,     0.92993,     0.93093,     0.93193,     0.93293,     0.93393,     0.93493,     0.93594,\n",
       "           0.93694,     0.93794,     0.93894,     0.93994,     0.94094,     0.94194,     0.94294,     0.94394,     0.94494,     0.94595,     0.94695,     0.94795,     0.94895,     0.94995,     0.95095,     0.95195,     0.95295,     0.95395,     0.95495,     0.95596,     0.95696,     0.95796,     0.95896,     0.95996,\n",
       "           0.96096,     0.96196,     0.96296,     0.96396,     0.96496,     0.96597,     0.96697,     0.96797,     0.96897,     0.96997,     0.97097,     0.97197,     0.97297,     0.97397,     0.97497,     0.97598,     0.97698,     0.97798,     0.97898,     0.97998,     0.98098,     0.98198,     0.98298,     0.98398,\n",
       "           0.98498,     0.98599,     0.98699,     0.98799,     0.98899,     0.98999,     0.99099,     0.99199,     0.99299,     0.99399,     0.99499,       0.996,       0.997,       0.998,       0.999,           1]), array([[          1,           1,           1,           1,           1,           1,           1,           1,           1,           1,           1,           1,           1,           1,           1,           1,           1,           1,           1,           1,           1,           1,           1,\n",
       "                  1,           1,           1,           1,           1,           1,           1,           1,           1,           1,           1,           1,           1,           1,           1,           1,           1,           1,           1,           1,           1,           1,           1,\n",
       "                  1,           1,           1,           1,           1,           1,           1,           1,           1,           1,           1,           1,           1,           1,           1,           1,           1,           1,           1,           1,           1,           1,           1,\n",
       "                  1,           1,           1,           1,           1,           1,           1,           1,           1,           1,           1,           1,           1,           1,           1,     0.97368,     0.97368,     0.97368,     0.97368,     0.97368,     0.97368,     0.97368,     0.97368,\n",
       "            0.97368,     0.97368,     0.96774,     0.96774,     0.96774,     0.96774,     0.96774,     0.96774,     0.96774,     0.96774,     0.96774,     0.96774,     0.96774,     0.96774,     0.96774,     0.96774,     0.96774,     0.96774,     0.96774,     0.96774,     0.96774,     0.96774,     0.96774,\n",
       "            0.96774,     0.96774,     0.96774,     0.96774,     0.96774,     0.96774,     0.96774,     0.96774,     0.96774,     0.96774,     0.96774,     0.96774,     0.96774,     0.96774,     0.96774,     0.96774,     0.96774,     0.96774,     0.96774,     0.96774,     0.96774,     0.96774,     0.96774,\n",
       "            0.96774,     0.96774,     0.96774,     0.96774,     0.96774,     0.96774,     0.96774,     0.96774,     0.96774,     0.96774,     0.96774,     0.96774,     0.96774,     0.96774,     0.96512,     0.96512,     0.96512,     0.96512,     0.96512,     0.96512,     0.96512,     0.96512,     0.96512,\n",
       "            0.96512,     0.96512,     0.96512,     0.96512,     0.96512,     0.96512,     0.96512,     0.96512,     0.96512,     0.96512,     0.96512,     0.96512,     0.96512,     0.96512,     0.96512,     0.96512,     0.96512,     0.96512,     0.96512,     0.96512,     0.96512,     0.96512,     0.96512,\n",
       "            0.96512,     0.96512,     0.96512,     0.96512,     0.96512,     0.96512,     0.96512,     0.96512,     0.96512,     0.96512,     0.96512,     0.96512,     0.96512,     0.96512,     0.96512,     0.96512,     0.96512,     0.96512,     0.96512,     0.96512,     0.96512,     0.96512,     0.96512,\n",
       "            0.96512,     0.96512,     0.96512,     0.96479,     0.96479,     0.96479,     0.96479,     0.96479,     0.96479,     0.96479,     0.96479,     0.96479,     0.96479,     0.96479,     0.96479,     0.96479,     0.96479,     0.96479,     0.96479,     0.96479,     0.96479,     0.96479,     0.96479,\n",
       "            0.96479,     0.96479,     0.96479,     0.96479,     0.96479,     0.96479,     0.96479,     0.96479,     0.96479,     0.96479,     0.96479,     0.96479,     0.96479,     0.96479,     0.96479,     0.96479,     0.96479,     0.96479,     0.96479,     0.96479,     0.96479,     0.96479,     0.96479,\n",
       "            0.96479,     0.96479,     0.96479,     0.96479,     0.96479,     0.96479,     0.96479,     0.96479,     0.96479,     0.96479,     0.96479,     0.96479,     0.96479,     0.96479,     0.96479,     0.96479,     0.96479,     0.96479,     0.96479,     0.96479,     0.96479,     0.96479,     0.96479,\n",
       "            0.96479,     0.96479,     0.96479,     0.96479,     0.96479,     0.96479,     0.96479,     0.96479,     0.96479,     0.96479,     0.96479,     0.96479,     0.96479,     0.96479,     0.96479,     0.96479,     0.96479,     0.96479,     0.96479,     0.96479,     0.96479,     0.96479,     0.96479,\n",
       "            0.96479,     0.96479,     0.96479,     0.96479,     0.96479,     0.96479,     0.96479,     0.96479,     0.96479,     0.96479,     0.96479,     0.96479,     0.96479,     0.96479,     0.96479,     0.96479,     0.96479,     0.96479,     0.96479,     0.96479,     0.96479,     0.96479,     0.96479,\n",
       "            0.96479,     0.96479,     0.96479,     0.96479,     0.96479,     0.96479,     0.96479,     0.96479,     0.96479,     0.96479,     0.96479,     0.96479,     0.96479,     0.96479,     0.96479,     0.96479,     0.96479,     0.96479,     0.96479,     0.96479,     0.96479,     0.96479,     0.96479,\n",
       "            0.96479,     0.96479,     0.96479,     0.96479,     0.96479,     0.96479,     0.96479,     0.96479,     0.96479,     0.96479,     0.96479,     0.96479,     0.96479,     0.96479,     0.96479,     0.96479,     0.96479,     0.96479,     0.96479,     0.96479,     0.96479,     0.96479,     0.96479,\n",
       "            0.96479,     0.96479,     0.96479,     0.96479,     0.96479,     0.96479,     0.96479,     0.96479,     0.96479,     0.96479,     0.96479,     0.96479,     0.96479,     0.96479,     0.96479,     0.96479,     0.96479,     0.96479,     0.96479,     0.96479,     0.96479,     0.96479,     0.96479,\n",
       "            0.96479,     0.96479,     0.96479,     0.96479,     0.96479,     0.96479,     0.96479,     0.96479,     0.96479,     0.96479,     0.96479,     0.96479,     0.96479,     0.96479,     0.96479,     0.96479,     0.96479,     0.96479,     0.96479,     0.96479,     0.96479,     0.96479,     0.96479,\n",
       "            0.96479,     0.96479,     0.96479,     0.96479,     0.96479,     0.96479,     0.96479,     0.96479,     0.96479,     0.96479,     0.96479,     0.96479,     0.96479,     0.96479,     0.96479,     0.96479,     0.96479,     0.96479,     0.96479,     0.96479,     0.96479,     0.96479,     0.96479,\n",
       "            0.96479,     0.96479,     0.96479,     0.96479,     0.96479,     0.96479,     0.96479,     0.96479,     0.96479,     0.96479,     0.96479,     0.96479,     0.96479,     0.96479,     0.96479,     0.96479,     0.96479,     0.96479,     0.96479,     0.96479,     0.96479,     0.96479,     0.96479,\n",
       "            0.96479,     0.96479,     0.96479,     0.96479,     0.96479,     0.96479,     0.96479,     0.96479,     0.96479,     0.96479,     0.96479,     0.96479,     0.96479,     0.96479,     0.96479,     0.96479,     0.96479,     0.96479,     0.96479,     0.96479,     0.96479,     0.96479,     0.96479,\n",
       "            0.96479,     0.96479,     0.96479,     0.96479,     0.96479,     0.96479,     0.96479,     0.96479,     0.96479,     0.96479,     0.96479,     0.96479,     0.96479,     0.96479,     0.96479,     0.96479,     0.96479,     0.96479,     0.96479,     0.96479,     0.96479,     0.96479,     0.96479,\n",
       "            0.96479,     0.96479,     0.96479,     0.96479,     0.96479,     0.96479,     0.96479,     0.96479,     0.96479,     0.96479,     0.96479,     0.96479,     0.96479,     0.96479,     0.96479,     0.96479,     0.96479,     0.96479,     0.96479,     0.96479,     0.96479,     0.96479,     0.96479,\n",
       "            0.96479,     0.96479,     0.96479,     0.96479,     0.96479,     0.96479,     0.96479,     0.96479,     0.96479,     0.96479,     0.96479,     0.96479,     0.96479,     0.96479,     0.96479,     0.96479,     0.96479,     0.96479,     0.96479,     0.96479,     0.96479,     0.96479,     0.96479,\n",
       "            0.96479,     0.96479,     0.96479,     0.96479,     0.96479,     0.96479,     0.96479,     0.96479,     0.96479,     0.96479,     0.96479,     0.96479,     0.96479,     0.96479,     0.96479,     0.96479,     0.96479,     0.96479,     0.96479,     0.96479,     0.96479,     0.96479,     0.96479,\n",
       "            0.96479,     0.96479,     0.96479,     0.96479,     0.96479,     0.96479,     0.96479,     0.96479,     0.96479,     0.96479,     0.96479,     0.96479,     0.96479,     0.96479,     0.96479,     0.96479,     0.96479,     0.96479,     0.96479,     0.96479,     0.96479,     0.96479,     0.96479,\n",
       "            0.96479,     0.96479,     0.96479,     0.96479,     0.96479,     0.96479,     0.96479,     0.96479,     0.96479,     0.96479,     0.96479,     0.96479,     0.96479,     0.96479,     0.96479,     0.96479,     0.96479,     0.96479,     0.96479,     0.96479,     0.96479,     0.96479,     0.96479,\n",
       "            0.96479,     0.96479,     0.96479,     0.96479,     0.96479,     0.96479,     0.96479,     0.96479,     0.96479,     0.96479,     0.96479,     0.96479,     0.96479,     0.96479,     0.96479,     0.96479,     0.96479,     0.96479,     0.96479,     0.96479,     0.96479,     0.96479,     0.96479,\n",
       "            0.96479,     0.96479,     0.96479,     0.96479,     0.96479,     0.96479,     0.96479,     0.96479,     0.96479,     0.96479,     0.96479,     0.96479,     0.96479,     0.96479,     0.96479,     0.96479,     0.96479,     0.96479,     0.96479,     0.96479,     0.96479,     0.96479,     0.96479,\n",
       "            0.96479,     0.96479,     0.96479,     0.96479,     0.96479,     0.96479,     0.96479,     0.96479,     0.96479,     0.96479,     0.96479,     0.96479,     0.96479,     0.96479,     0.96479,     0.96479,     0.96479,     0.96479,     0.96479,     0.96479,     0.96479,     0.96479,     0.96479,\n",
       "            0.96479,     0.96479,      0.9622,      0.9622,      0.9622,      0.9622,      0.9622,      0.9622,      0.9622,      0.9622,      0.9622,      0.9622,      0.9622,      0.9622,      0.9622,      0.9622,      0.9622,     0.93355,     0.93355,     0.93069,     0.93069,     0.93069,     0.91667,\n",
       "            0.91667,     0.91667,     0.91667,     0.91667,     0.91667,     0.91667,     0.91667,     0.91667,     0.91667,     0.91111,     0.91111,     0.91111,     0.88685,     0.88685,     0.88685,     0.88685,     0.88685,     0.88685,     0.88685,     0.87164,     0.87164,     0.87164,     0.87164,\n",
       "            0.87164,     0.86176,     0.86176,     0.86176,     0.85714,     0.85714,     0.84091,     0.84091,     0.84091,     0.84091,     0.84091,     0.83898,     0.83898,     0.83898,     0.82143,     0.82143,     0.82143,     0.82143,     0.82143,      0.7874,      0.7874,      0.7525,      0.7525,\n",
       "             0.7525,     0.72771,     0.72771,     0.70465,     0.70465,     0.70465,     0.69248,     0.69248,     0.65032,     0.65032,     0.65032,     0.64017,     0.64017,     0.63039,     0.63039,     0.63039,     0.62507,     0.62228,     0.61949,      0.6167,     0.61391,     0.61112,     0.60833,\n",
       "            0.60554,     0.60275,     0.59996,     0.59717,     0.59438,     0.59159,      0.5888,       0.586,     0.58321,     0.58042,     0.57763,     0.57484,     0.57205,     0.56926,     0.56647,     0.56368,     0.56089,      0.5581,     0.55531,     0.55252,     0.54973,     0.54694,     0.54415,\n",
       "            0.54136,     0.53857,     0.53578,     0.53299,     0.53019,      0.5274,     0.52461,     0.52182,     0.51903,     0.51624,     0.51345,     0.51066,     0.50787,     0.50508,     0.50229,      0.4995,     0.49671,     0.49392,     0.49113,     0.48834,     0.48555,     0.48276,     0.47997,\n",
       "            0.47718,     0.47438,     0.47159,      0.4688,     0.46601,     0.46322,     0.46043,     0.45764,     0.45485,     0.45206,     0.44927,     0.44648,     0.44369,      0.4409,     0.43811,     0.43532,     0.43253,     0.42974,     0.42695,     0.42416,     0.42137,     0.41857,     0.41578,\n",
       "            0.41299,      0.4102,     0.40741,     0.40462,     0.40183,     0.39904,     0.39625,     0.39346,     0.39067,     0.38788,     0.38509,      0.3823,     0.37951,     0.37672,     0.37393,     0.37114,     0.36835,     0.36556,     0.36276,     0.35997,     0.35718,     0.35439,      0.3516,\n",
       "            0.34881,     0.34602,     0.34323,     0.34044,     0.33765,     0.33486,     0.33207,     0.32928,     0.32649,      0.3237,     0.32091,     0.31812,     0.31533,     0.31254,     0.30975,     0.30695,     0.30416,     0.30137,     0.29858,     0.29579,       0.293,     0.29021,     0.28742,\n",
       "            0.28463,     0.28184,     0.27905,     0.27626,     0.27347,     0.27068,     0.26789,      0.2651,     0.26231,     0.25952,     0.25673,     0.25394,     0.25114,     0.24835,     0.24556,     0.24277,     0.23998,     0.23719,      0.2344,     0.23161,     0.22882,     0.22603,     0.22324,\n",
       "            0.22045,     0.21766,     0.21487,     0.21208,     0.20929,      0.2065,     0.20371,     0.20092,     0.19813,     0.19533,     0.19254,     0.18975,     0.18696,     0.18417,     0.18138,     0.17859,      0.1758,     0.17301,     0.17022,     0.16743,     0.16464,     0.16185,     0.15906,\n",
       "            0.15627,     0.15348,     0.15069,      0.1479,     0.14511,     0.14232,     0.13952,     0.13673,     0.13394,     0.13115,     0.12836,     0.12557,     0.12278,     0.11999,      0.1172,     0.11441,     0.11162,     0.10883,     0.10604,     0.10325,     0.10046,    0.097667,    0.094877,\n",
       "           0.092086,    0.089296,    0.086505,    0.083715,    0.080924,    0.078134,    0.075343,    0.072553,    0.069762,    0.066972,    0.064181,    0.061391,      0.0586,     0.05581,    0.053019,    0.050229,    0.047438,    0.044648,    0.041857,    0.039067,    0.036276,    0.033486,    0.030695,\n",
       "           0.027905,    0.025114,    0.022324,    0.019533,    0.016743,    0.013952,    0.011162,   0.0083715,    0.005581,   0.0027905,           0]]), 'Recall', 'Precision'], [array([          0,    0.001001,    0.002002,    0.003003,    0.004004,    0.005005,    0.006006,    0.007007,    0.008008,    0.009009,     0.01001,    0.011011,    0.012012,    0.013013,    0.014014,    0.015015,    0.016016,    0.017017,    0.018018,    0.019019,     0.02002,    0.021021,    0.022022,    0.023023,\n",
       "          0.024024,    0.025025,    0.026026,    0.027027,    0.028028,    0.029029,     0.03003,    0.031031,    0.032032,    0.033033,    0.034034,    0.035035,    0.036036,    0.037037,    0.038038,    0.039039,     0.04004,    0.041041,    0.042042,    0.043043,    0.044044,    0.045045,    0.046046,    0.047047,\n",
       "          0.048048,    0.049049,     0.05005,    0.051051,    0.052052,    0.053053,    0.054054,    0.055055,    0.056056,    0.057057,    0.058058,    0.059059,     0.06006,    0.061061,    0.062062,    0.063063,    0.064064,    0.065065,    0.066066,    0.067067,    0.068068,    0.069069,     0.07007,    0.071071,\n",
       "          0.072072,    0.073073,    0.074074,    0.075075,    0.076076,    0.077077,    0.078078,    0.079079,     0.08008,    0.081081,    0.082082,    0.083083,    0.084084,    0.085085,    0.086086,    0.087087,    0.088088,    0.089089,     0.09009,    0.091091,    0.092092,    0.093093,    0.094094,    0.095095,\n",
       "          0.096096,    0.097097,    0.098098,    0.099099,      0.1001,      0.1011,      0.1021,      0.1031,      0.1041,     0.10511,     0.10611,     0.10711,     0.10811,     0.10911,     0.11011,     0.11111,     0.11211,     0.11311,     0.11411,     0.11512,     0.11612,     0.11712,     0.11812,     0.11912,\n",
       "           0.12012,     0.12112,     0.12212,     0.12312,     0.12412,     0.12513,     0.12613,     0.12713,     0.12813,     0.12913,     0.13013,     0.13113,     0.13213,     0.13313,     0.13413,     0.13514,     0.13614,     0.13714,     0.13814,     0.13914,     0.14014,     0.14114,     0.14214,     0.14314,\n",
       "           0.14414,     0.14515,     0.14615,     0.14715,     0.14815,     0.14915,     0.15015,     0.15115,     0.15215,     0.15315,     0.15415,     0.15516,     0.15616,     0.15716,     0.15816,     0.15916,     0.16016,     0.16116,     0.16216,     0.16316,     0.16416,     0.16517,     0.16617,     0.16717,\n",
       "           0.16817,     0.16917,     0.17017,     0.17117,     0.17217,     0.17317,     0.17417,     0.17518,     0.17618,     0.17718,     0.17818,     0.17918,     0.18018,     0.18118,     0.18218,     0.18318,     0.18418,     0.18519,     0.18619,     0.18719,     0.18819,     0.18919,     0.19019,     0.19119,\n",
       "           0.19219,     0.19319,     0.19419,      0.1952,      0.1962,      0.1972,      0.1982,      0.1992,      0.2002,      0.2012,      0.2022,      0.2032,      0.2042,     0.20521,     0.20621,     0.20721,     0.20821,     0.20921,     0.21021,     0.21121,     0.21221,     0.21321,     0.21421,     0.21522,\n",
       "           0.21622,     0.21722,     0.21822,     0.21922,     0.22022,     0.22122,     0.22222,     0.22322,     0.22422,     0.22523,     0.22623,     0.22723,     0.22823,     0.22923,     0.23023,     0.23123,     0.23223,     0.23323,     0.23423,     0.23524,     0.23624,     0.23724,     0.23824,     0.23924,\n",
       "           0.24024,     0.24124,     0.24224,     0.24324,     0.24424,     0.24525,     0.24625,     0.24725,     0.24825,     0.24925,     0.25025,     0.25125,     0.25225,     0.25325,     0.25425,     0.25526,     0.25626,     0.25726,     0.25826,     0.25926,     0.26026,     0.26126,     0.26226,     0.26326,\n",
       "           0.26426,     0.26527,     0.26627,     0.26727,     0.26827,     0.26927,     0.27027,     0.27127,     0.27227,     0.27327,     0.27427,     0.27528,     0.27628,     0.27728,     0.27828,     0.27928,     0.28028,     0.28128,     0.28228,     0.28328,     0.28428,     0.28529,     0.28629,     0.28729,\n",
       "           0.28829,     0.28929,     0.29029,     0.29129,     0.29229,     0.29329,     0.29429,      0.2953,      0.2963,      0.2973,      0.2983,      0.2993,      0.3003,      0.3013,      0.3023,      0.3033,      0.3043,     0.30531,     0.30631,     0.30731,     0.30831,     0.30931,     0.31031,     0.31131,\n",
       "           0.31231,     0.31331,     0.31431,     0.31532,     0.31632,     0.31732,     0.31832,     0.31932,     0.32032,     0.32132,     0.32232,     0.32332,     0.32432,     0.32533,     0.32633,     0.32733,     0.32833,     0.32933,     0.33033,     0.33133,     0.33233,     0.33333,     0.33433,     0.33534,\n",
       "           0.33634,     0.33734,     0.33834,     0.33934,     0.34034,     0.34134,     0.34234,     0.34334,     0.34434,     0.34535,     0.34635,     0.34735,     0.34835,     0.34935,     0.35035,     0.35135,     0.35235,     0.35335,     0.35435,     0.35536,     0.35636,     0.35736,     0.35836,     0.35936,\n",
       "           0.36036,     0.36136,     0.36236,     0.36336,     0.36436,     0.36537,     0.36637,     0.36737,     0.36837,     0.36937,     0.37037,     0.37137,     0.37237,     0.37337,     0.37437,     0.37538,     0.37638,     0.37738,     0.37838,     0.37938,     0.38038,     0.38138,     0.38238,     0.38338,\n",
       "           0.38438,     0.38539,     0.38639,     0.38739,     0.38839,     0.38939,     0.39039,     0.39139,     0.39239,     0.39339,     0.39439,      0.3954,      0.3964,      0.3974,      0.3984,      0.3994,      0.4004,      0.4014,      0.4024,      0.4034,      0.4044,     0.40541,     0.40641,     0.40741,\n",
       "           0.40841,     0.40941,     0.41041,     0.41141,     0.41241,     0.41341,     0.41441,     0.41542,     0.41642,     0.41742,     0.41842,     0.41942,     0.42042,     0.42142,     0.42242,     0.42342,     0.42442,     0.42543,     0.42643,     0.42743,     0.42843,     0.42943,     0.43043,     0.43143,\n",
       "           0.43243,     0.43343,     0.43443,     0.43544,     0.43644,     0.43744,     0.43844,     0.43944,     0.44044,     0.44144,     0.44244,     0.44344,     0.44444,     0.44545,     0.44645,     0.44745,     0.44845,     0.44945,     0.45045,     0.45145,     0.45245,     0.45345,     0.45445,     0.45546,\n",
       "           0.45646,     0.45746,     0.45846,     0.45946,     0.46046,     0.46146,     0.46246,     0.46346,     0.46446,     0.46547,     0.46647,     0.46747,     0.46847,     0.46947,     0.47047,     0.47147,     0.47247,     0.47347,     0.47447,     0.47548,     0.47648,     0.47748,     0.47848,     0.47948,\n",
       "           0.48048,     0.48148,     0.48248,     0.48348,     0.48448,     0.48549,     0.48649,     0.48749,     0.48849,     0.48949,     0.49049,     0.49149,     0.49249,     0.49349,     0.49449,      0.4955,      0.4965,      0.4975,      0.4985,      0.4995,      0.5005,      0.5015,      0.5025,      0.5035,\n",
       "            0.5045,     0.50551,     0.50651,     0.50751,     0.50851,     0.50951,     0.51051,     0.51151,     0.51251,     0.51351,     0.51451,     0.51552,     0.51652,     0.51752,     0.51852,     0.51952,     0.52052,     0.52152,     0.52252,     0.52352,     0.52452,     0.52553,     0.52653,     0.52753,\n",
       "           0.52853,     0.52953,     0.53053,     0.53153,     0.53253,     0.53353,     0.53453,     0.53554,     0.53654,     0.53754,     0.53854,     0.53954,     0.54054,     0.54154,     0.54254,     0.54354,     0.54454,     0.54555,     0.54655,     0.54755,     0.54855,     0.54955,     0.55055,     0.55155,\n",
       "           0.55255,     0.55355,     0.55455,     0.55556,     0.55656,     0.55756,     0.55856,     0.55956,     0.56056,     0.56156,     0.56256,     0.56356,     0.56456,     0.56557,     0.56657,     0.56757,     0.56857,     0.56957,     0.57057,     0.57157,     0.57257,     0.57357,     0.57457,     0.57558,\n",
       "           0.57658,     0.57758,     0.57858,     0.57958,     0.58058,     0.58158,     0.58258,     0.58358,     0.58458,     0.58559,     0.58659,     0.58759,     0.58859,     0.58959,     0.59059,     0.59159,     0.59259,     0.59359,     0.59459,      0.5956,      0.5966,      0.5976,      0.5986,      0.5996,\n",
       "            0.6006,      0.6016,      0.6026,      0.6036,      0.6046,     0.60561,     0.60661,     0.60761,     0.60861,     0.60961,     0.61061,     0.61161,     0.61261,     0.61361,     0.61461,     0.61562,     0.61662,     0.61762,     0.61862,     0.61962,     0.62062,     0.62162,     0.62262,     0.62362,\n",
       "           0.62462,     0.62563,     0.62663,     0.62763,     0.62863,     0.62963,     0.63063,     0.63163,     0.63263,     0.63363,     0.63463,     0.63564,     0.63664,     0.63764,     0.63864,     0.63964,     0.64064,     0.64164,     0.64264,     0.64364,     0.64464,     0.64565,     0.64665,     0.64765,\n",
       "           0.64865,     0.64965,     0.65065,     0.65165,     0.65265,     0.65365,     0.65465,     0.65566,     0.65666,     0.65766,     0.65866,     0.65966,     0.66066,     0.66166,     0.66266,     0.66366,     0.66466,     0.66567,     0.66667,     0.66767,     0.66867,     0.66967,     0.67067,     0.67167,\n",
       "           0.67267,     0.67367,     0.67467,     0.67568,     0.67668,     0.67768,     0.67868,     0.67968,     0.68068,     0.68168,     0.68268,     0.68368,     0.68468,     0.68569,     0.68669,     0.68769,     0.68869,     0.68969,     0.69069,     0.69169,     0.69269,     0.69369,     0.69469,      0.6957,\n",
       "            0.6967,      0.6977,      0.6987,      0.6997,      0.7007,      0.7017,      0.7027,      0.7037,      0.7047,     0.70571,     0.70671,     0.70771,     0.70871,     0.70971,     0.71071,     0.71171,     0.71271,     0.71371,     0.71471,     0.71572,     0.71672,     0.71772,     0.71872,     0.71972,\n",
       "           0.72072,     0.72172,     0.72272,     0.72372,     0.72472,     0.72573,     0.72673,     0.72773,     0.72873,     0.72973,     0.73073,     0.73173,     0.73273,     0.73373,     0.73473,     0.73574,     0.73674,     0.73774,     0.73874,     0.73974,     0.74074,     0.74174,     0.74274,     0.74374,\n",
       "           0.74474,     0.74575,     0.74675,     0.74775,     0.74875,     0.74975,     0.75075,     0.75175,     0.75275,     0.75375,     0.75475,     0.75576,     0.75676,     0.75776,     0.75876,     0.75976,     0.76076,     0.76176,     0.76276,     0.76376,     0.76476,     0.76577,     0.76677,     0.76777,\n",
       "           0.76877,     0.76977,     0.77077,     0.77177,     0.77277,     0.77377,     0.77477,     0.77578,     0.77678,     0.77778,     0.77878,     0.77978,     0.78078,     0.78178,     0.78278,     0.78378,     0.78478,     0.78579,     0.78679,     0.78779,     0.78879,     0.78979,     0.79079,     0.79179,\n",
       "           0.79279,     0.79379,     0.79479,      0.7958,      0.7968,      0.7978,      0.7988,      0.7998,      0.8008,      0.8018,      0.8028,      0.8038,      0.8048,     0.80581,     0.80681,     0.80781,     0.80881,     0.80981,     0.81081,     0.81181,     0.81281,     0.81381,     0.81481,     0.81582,\n",
       "           0.81682,     0.81782,     0.81882,     0.81982,     0.82082,     0.82182,     0.82282,     0.82382,     0.82482,     0.82583,     0.82683,     0.82783,     0.82883,     0.82983,     0.83083,     0.83183,     0.83283,     0.83383,     0.83483,     0.83584,     0.83684,     0.83784,     0.83884,     0.83984,\n",
       "           0.84084,     0.84184,     0.84284,     0.84384,     0.84484,     0.84585,     0.84685,     0.84785,     0.84885,     0.84985,     0.85085,     0.85185,     0.85285,     0.85385,     0.85485,     0.85586,     0.85686,     0.85786,     0.85886,     0.85986,     0.86086,     0.86186,     0.86286,     0.86386,\n",
       "           0.86486,     0.86587,     0.86687,     0.86787,     0.86887,     0.86987,     0.87087,     0.87187,     0.87287,     0.87387,     0.87487,     0.87588,     0.87688,     0.87788,     0.87888,     0.87988,     0.88088,     0.88188,     0.88288,     0.88388,     0.88488,     0.88589,     0.88689,     0.88789,\n",
       "           0.88889,     0.88989,     0.89089,     0.89189,     0.89289,     0.89389,     0.89489,      0.8959,      0.8969,      0.8979,      0.8989,      0.8999,      0.9009,      0.9019,      0.9029,      0.9039,      0.9049,     0.90591,     0.90691,     0.90791,     0.90891,     0.90991,     0.91091,     0.91191,\n",
       "           0.91291,     0.91391,     0.91491,     0.91592,     0.91692,     0.91792,     0.91892,     0.91992,     0.92092,     0.92192,     0.92292,     0.92392,     0.92492,     0.92593,     0.92693,     0.92793,     0.92893,     0.92993,     0.93093,     0.93193,     0.93293,     0.93393,     0.93493,     0.93594,\n",
       "           0.93694,     0.93794,     0.93894,     0.93994,     0.94094,     0.94194,     0.94294,     0.94394,     0.94494,     0.94595,     0.94695,     0.94795,     0.94895,     0.94995,     0.95095,     0.95195,     0.95295,     0.95395,     0.95495,     0.95596,     0.95696,     0.95796,     0.95896,     0.95996,\n",
       "           0.96096,     0.96196,     0.96296,     0.96396,     0.96496,     0.96597,     0.96697,     0.96797,     0.96897,     0.96997,     0.97097,     0.97197,     0.97297,     0.97397,     0.97497,     0.97598,     0.97698,     0.97798,     0.97898,     0.97998,     0.98098,     0.98198,     0.98298,     0.98398,\n",
       "           0.98498,     0.98599,     0.98699,     0.98799,     0.98899,     0.98999,     0.99099,     0.99199,     0.99299,     0.99399,     0.99499,       0.996,       0.997,       0.998,       0.999,           1]), array([[      0.693,       0.693,     0.75037,     0.77246,      0.7861,     0.78825,     0.79435,     0.79759,     0.79659,     0.80156,      0.8012,     0.79755,     0.80158,     0.80274,     0.80647,     0.80444,     0.80285,     0.80115,     0.80141,     0.80168,     0.80194,     0.80221,     0.80271,\n",
       "            0.80329,     0.80369,     0.80404,     0.80438,     0.80515,     0.80579,     0.80592,     0.80605,     0.80618,     0.80631,     0.80644,     0.80657,      0.8067,     0.80683,     0.80649,     0.80599,     0.80549,     0.80522,     0.80541,      0.8056,     0.80578,     0.80597,     0.80616,\n",
       "            0.80629,     0.80614,     0.80599,     0.80584,      0.8057,     0.80555,      0.8054,     0.80525,     0.80511,     0.80496,     0.80481,     0.80466,     0.80586,     0.80627,     0.80668,     0.80704,     0.80733,     0.80762,     0.80791,     0.80816,     0.80835,     0.80854,     0.80873,\n",
       "            0.80892,     0.80911,     0.80941,     0.81001,     0.81098,     0.81165,     0.81175,     0.81184,     0.81193,     0.81202,     0.81212,     0.81221,      0.8123,     0.81239,     0.81249,     0.81258,     0.81267,     0.81276,     0.81297,     0.81319,     0.81341,     0.81363,     0.81385,\n",
       "             0.8141,     0.81436,     0.81463,      0.8149,     0.81509,     0.81457,     0.81404,     0.81352,     0.81263,     0.81165,     0.81067,     0.80993,     0.80988,     0.80983,     0.80978,     0.80973,     0.80968,     0.80963,     0.80958,     0.80953,     0.80948,     0.80943,     0.80938,\n",
       "            0.80933,     0.80928,     0.80923,     0.80918,     0.80913,     0.80908,     0.80903,     0.80899,     0.80894,     0.80889,     0.80884,     0.80879,     0.80874,     0.80869,     0.80864,     0.80859,     0.80854,     0.80849,     0.80844,     0.80839,     0.80834,     0.80829,     0.80824,\n",
       "            0.80815,     0.80792,     0.80768,     0.80745,     0.80721,     0.80698,     0.80674,     0.80651,     0.80567,     0.80472,     0.80506,     0.80541,     0.80576,     0.80564,     0.80526,     0.80488,      0.8045,     0.80412,     0.80354,     0.80296,     0.80239,     0.80232,     0.80228,\n",
       "            0.80223,     0.80219,     0.80215,     0.80211,     0.80206,     0.80202,     0.80198,     0.80194,     0.80189,     0.80185,     0.80181,     0.80177,     0.80172,     0.80168,     0.80164,      0.8016,     0.80155,     0.80151,     0.80147,     0.80143,     0.80138,     0.80134,      0.8013,\n",
       "            0.80126,     0.80121,     0.80117,     0.80113,     0.80109,     0.80104,       0.801,     0.80096,     0.80092,     0.80087,     0.80083,     0.80079,     0.80075,      0.8007,     0.80066,     0.80062,     0.80057,     0.80052,     0.80047,     0.80042,     0.80037,     0.80032,     0.80027,\n",
       "            0.80022,     0.80017,     0.80012,     0.80007,     0.80002,     0.79997,     0.79992,     0.79987,     0.79981,     0.79976,     0.79971,     0.79966,     0.79961,     0.79956,     0.79951,     0.79946,     0.79941,     0.79936,     0.79931,     0.79926,     0.79921,     0.79916,     0.79911,\n",
       "            0.79906,     0.79901,     0.79896,     0.79891,     0.79885,     0.79877,     0.79856,     0.79835,     0.79815,     0.79794,     0.79774,     0.79753,     0.79733,     0.79712,     0.79702,     0.79699,     0.79696,     0.79693,      0.7969,     0.79687,     0.79684,     0.79681,     0.79678,\n",
       "            0.79675,     0.79672,     0.79669,     0.79666,     0.79663,     0.79661,     0.79658,     0.79655,     0.79652,     0.79649,     0.79646,     0.79643,      0.7964,     0.79637,     0.79634,     0.79631,     0.79628,     0.79625,     0.79622,     0.79619,     0.79616,     0.79613,      0.7961,\n",
       "            0.79607,     0.79604,     0.79601,     0.79598,     0.79595,     0.79592,     0.79589,     0.79586,     0.79583,     0.79581,     0.79578,     0.79575,     0.79572,     0.79569,     0.79566,     0.79563,      0.7956,     0.79557,     0.79554,     0.79551,     0.79548,     0.79545,     0.79542,\n",
       "            0.79539,     0.79536,     0.79533,      0.7953,     0.79527,     0.79397,     0.79342,     0.79337,     0.79333,     0.79328,     0.79323,     0.79318,     0.79313,     0.79309,     0.79304,     0.79299,     0.79294,      0.7929,     0.79285,      0.7928,     0.79275,      0.7927,     0.79266,\n",
       "            0.79261,     0.79256,     0.79251,     0.79247,     0.79242,     0.79237,     0.79232,     0.79227,     0.79223,     0.79218,     0.79213,     0.79208,     0.79204,     0.79199,     0.79194,     0.79189,     0.79184,      0.7918,     0.79175,      0.7917,     0.79164,     0.79155,     0.79145,\n",
       "            0.79136,     0.79127,     0.79118,     0.79109,     0.79099,      0.7909,     0.79081,     0.79072,     0.79062,     0.79053,     0.79044,     0.79035,     0.79025,     0.79016,     0.79007,     0.78998,     0.78989,     0.78974,     0.78959,     0.78944,     0.78928,     0.78913,     0.78897,\n",
       "            0.78882,     0.78866,     0.78851,     0.78836,      0.7882,     0.78805,     0.78799,     0.78792,     0.78786,     0.78779,     0.78773,     0.78766,      0.7876,     0.78753,     0.78747,      0.7874,     0.78734,     0.78727,     0.78721,     0.78714,     0.78708,     0.78701,     0.78695,\n",
       "            0.78688,     0.78682,     0.78675,     0.78669,     0.78662,     0.78656,     0.78649,     0.78643,     0.78636,      0.7863,     0.78622,     0.78612,     0.78603,     0.78593,     0.78583,     0.78573,     0.78563,     0.78554,     0.78544,     0.78534,     0.78524,     0.78514,     0.78505,\n",
       "            0.78495,     0.78485,     0.78475,     0.78465,     0.78455,     0.78446,     0.78434,     0.78423,     0.78411,     0.78399,     0.78388,     0.78376,     0.78364,     0.78353,     0.78341,     0.78329,     0.78318,     0.78306,     0.78294,     0.78283,     0.78271,     0.78247,      0.7814,\n",
       "            0.78075,     0.78069,     0.78063,     0.78056,      0.7805,     0.78044,     0.78037,     0.78031,     0.78024,     0.78018,     0.78012,     0.78005,     0.77999,     0.77993,     0.77986,      0.7798,     0.77974,     0.77967,     0.77961,     0.77954,     0.77948,     0.77942,     0.77935,\n",
       "            0.77929,     0.77923,     0.77916,      0.7791,     0.77903,     0.77897,     0.77893,     0.77889,     0.77886,     0.77883,      0.7788,     0.77876,     0.77873,      0.7787,     0.77866,     0.77863,      0.7786,     0.77857,     0.77853,      0.7785,     0.77847,     0.77844,      0.7784,\n",
       "            0.77837,     0.77834,      0.7783,     0.77827,     0.77824,     0.77821,     0.77817,     0.77814,     0.77811,     0.77807,     0.77804,     0.77801,     0.77798,     0.77794,     0.77791,     0.77788,     0.77785,     0.77781,     0.77778,     0.77775,     0.77771,     0.77768,     0.77765,\n",
       "            0.77762,     0.77758,     0.77755,     0.77752,     0.77748,     0.77745,     0.77742,     0.77739,     0.77735,     0.77732,     0.77729,     0.77725,     0.77722,     0.77719,     0.77716,     0.77712,     0.77703,     0.77688,     0.77674,     0.77659,     0.77645,      0.7763,     0.77616,\n",
       "            0.77601,     0.77587,     0.77572,     0.77557,     0.77543,     0.77528,      0.7734,     0.77337,     0.77335,     0.77333,     0.77331,     0.77329,     0.77327,     0.77324,     0.77322,      0.7732,     0.77318,     0.77316,     0.77314,     0.77311,     0.77309,     0.77307,     0.77305,\n",
       "            0.77303,     0.77301,     0.77298,     0.77296,     0.77294,     0.77292,      0.7729,     0.77288,     0.77286,     0.77283,     0.77281,     0.77279,     0.77277,     0.77275,     0.77273,      0.7727,     0.77268,     0.77266,     0.77264,     0.77262,      0.7726,     0.77257,     0.77255,\n",
       "            0.77253,     0.77251,     0.77249,     0.77247,     0.77244,     0.77242,      0.7724,     0.77238,     0.77236,     0.77234,     0.77232,     0.77229,     0.77227,     0.77225,     0.77223,     0.77221,     0.77219,     0.77216,     0.77214,     0.77212,      0.7721,     0.77208,     0.77206,\n",
       "            0.77203,     0.77201,     0.77199,     0.77197,     0.77195,     0.77193,      0.7719,     0.77188,     0.77186,     0.77184,     0.77182,      0.7718,     0.77177,     0.77175,     0.77173,     0.77171,     0.77169,     0.77167,     0.77164,     0.77162,      0.7716,     0.77158,     0.77156,\n",
       "            0.77142,     0.77129,     0.77116,     0.77103,      0.7709,     0.77077,     0.77064,      0.7705,     0.77037,     0.77024,     0.77011,     0.76998,     0.76985,     0.76971,     0.76956,      0.7694,     0.76924,     0.76908,     0.76892,     0.76876,      0.7686,     0.76844,     0.76828,\n",
       "            0.76812,     0.76796,     0.76783,     0.76781,     0.76779,     0.76777,     0.76775,     0.76773,     0.76771,     0.76769,     0.76767,     0.76765,     0.76763,     0.76761,     0.76759,     0.76757,     0.76755,     0.76753,     0.76751,     0.76749,     0.76747,     0.76745,     0.76743,\n",
       "            0.76741,     0.76739,     0.76737,     0.76735,     0.76733,     0.76731,     0.76729,     0.76727,     0.76725,     0.76723,     0.76721,     0.76719,     0.76717,     0.76715,     0.76713,     0.76711,     0.76709,     0.76707,     0.76705,     0.76703,     0.76701,     0.76699,     0.76697,\n",
       "            0.76695,     0.76693,     0.76691,     0.76689,     0.76687,     0.76685,     0.76683,     0.76681,     0.76679,     0.76677,     0.76675,     0.76673,     0.76671,     0.76669,     0.76667,     0.76665,     0.76663,     0.76661,     0.76659,     0.76657,     0.76655,     0.76653,     0.76651,\n",
       "            0.76649,     0.76647,     0.76645,     0.76643,     0.76641,     0.76639,     0.76637,     0.76635,     0.76633,     0.76631,     0.76629,     0.76627,     0.76625,     0.76623,     0.76621,     0.76619,     0.76617,     0.76615,     0.76613,     0.76611,     0.76609,     0.76607,     0.76605,\n",
       "            0.76603,     0.76601,     0.76599,     0.76597,     0.76592,     0.76586,     0.76579,     0.76572,     0.76566,     0.76559,     0.76553,     0.76546,     0.76539,     0.76533,     0.76526,     0.76519,     0.76513,     0.76506,       0.765,     0.76493,     0.76486,      0.7648,     0.76473,\n",
       "            0.76466,      0.7646,     0.76453,     0.76446,      0.7644,     0.76433,     0.76426,      0.7642,     0.76413,     0.76407,     0.76402,     0.76398,     0.76393,     0.76389,     0.76385,      0.7638,     0.76376,     0.76371,     0.76367,     0.76362,     0.76358,     0.76353,     0.76349,\n",
       "            0.76344,      0.7634,     0.76335,     0.76331,     0.76326,     0.76322,     0.76317,     0.76313,     0.76308,     0.76304,     0.76299,     0.76295,      0.7629,     0.76286,     0.76281,     0.76277,     0.76272,     0.76268,     0.76263,     0.76259,     0.76254,      0.7625,     0.76245,\n",
       "            0.76241,     0.76236,     0.76232,     0.76227,     0.76223,     0.76217,     0.76207,     0.76198,     0.76188,     0.76178,     0.76169,     0.76159,     0.76149,      0.7614,      0.7613,      0.7612,      0.7611,     0.76101,     0.76091,     0.76081,     0.76072,     0.76062,     0.76052,\n",
       "            0.76043,     0.76033,     0.75884,     0.75641,     0.75609,     0.75576,     0.75544,     0.75511,     0.75479,     0.75445,     0.75409,     0.75373,     0.75338,     0.75302,     0.75263,     0.75185,     0.75106,     0.75049,     0.75006,     0.74962,     0.74918,     0.74837,     0.74639,\n",
       "            0.74469,     0.74369,     0.74343,      0.7437,     0.74237,     0.74172,     0.74115,     0.74058,     0.73833,      0.7359,     0.73545,       0.735,     0.73455,     0.73376,     0.73274,     0.73027,     0.72945,     0.72864,     0.72543,     0.71799,      0.7166,     0.71385,     0.71245,\n",
       "            0.70453,     0.69901,     0.69598,     0.69155,     0.68518,     0.68293,     0.67853,     0.67094,       0.661,     0.65851,     0.65394,     0.64482,     0.63557,     0.63246,     0.62608,      0.6207,      0.6076,     0.58985,     0.57484,      0.5595,     0.54645,     0.53049,     0.51418,\n",
       "             0.4868,     0.47563,     0.46183,     0.43481,     0.40129,     0.36944,     0.35926,     0.33318,     0.32601,     0.30088,     0.26749,      0.2411,     0.21825,     0.20904,     0.18846,     0.16778,     0.14652,      0.1383,     0.13297,     0.11911,     0.11452,    0.096401,    0.084653,\n",
       "           0.077562,    0.058595,     0.04891,    0.044129,    0.040822,    0.038555,    0.036894,     0.03523,      0.0263,    0.021245,    0.013498,    0.011453,   0.0099097,   0.0094639,   0.0090178,   0.0085716,   0.0081252,   0.0076786,   0.0072318,   0.0067848,   0.0063376,   0.0058901,   0.0054425,\n",
       "                  0,           0,           0,           0,           0,           0,           0,           0,           0,           0,           0,           0,           0,           0,           0,           0,           0,           0,           0,           0,           0,           0,           0,\n",
       "                  0,           0,           0,           0,           0,           0,           0,           0,           0,           0,           0,           0,           0,           0,           0,           0,           0,           0,           0,           0,           0,           0,           0,\n",
       "                  0,           0,           0,           0,           0,           0,           0,           0,           0,           0,           0]]), 'Confidence', 'F1'], [array([          0,    0.001001,    0.002002,    0.003003,    0.004004,    0.005005,    0.006006,    0.007007,    0.008008,    0.009009,     0.01001,    0.011011,    0.012012,    0.013013,    0.014014,    0.015015,    0.016016,    0.017017,    0.018018,    0.019019,     0.02002,    0.021021,    0.022022,    0.023023,\n",
       "          0.024024,    0.025025,    0.026026,    0.027027,    0.028028,    0.029029,     0.03003,    0.031031,    0.032032,    0.033033,    0.034034,    0.035035,    0.036036,    0.037037,    0.038038,    0.039039,     0.04004,    0.041041,    0.042042,    0.043043,    0.044044,    0.045045,    0.046046,    0.047047,\n",
       "          0.048048,    0.049049,     0.05005,    0.051051,    0.052052,    0.053053,    0.054054,    0.055055,    0.056056,    0.057057,    0.058058,    0.059059,     0.06006,    0.061061,    0.062062,    0.063063,    0.064064,    0.065065,    0.066066,    0.067067,    0.068068,    0.069069,     0.07007,    0.071071,\n",
       "          0.072072,    0.073073,    0.074074,    0.075075,    0.076076,    0.077077,    0.078078,    0.079079,     0.08008,    0.081081,    0.082082,    0.083083,    0.084084,    0.085085,    0.086086,    0.087087,    0.088088,    0.089089,     0.09009,    0.091091,    0.092092,    0.093093,    0.094094,    0.095095,\n",
       "          0.096096,    0.097097,    0.098098,    0.099099,      0.1001,      0.1011,      0.1021,      0.1031,      0.1041,     0.10511,     0.10611,     0.10711,     0.10811,     0.10911,     0.11011,     0.11111,     0.11211,     0.11311,     0.11411,     0.11512,     0.11612,     0.11712,     0.11812,     0.11912,\n",
       "           0.12012,     0.12112,     0.12212,     0.12312,     0.12412,     0.12513,     0.12613,     0.12713,     0.12813,     0.12913,     0.13013,     0.13113,     0.13213,     0.13313,     0.13413,     0.13514,     0.13614,     0.13714,     0.13814,     0.13914,     0.14014,     0.14114,     0.14214,     0.14314,\n",
       "           0.14414,     0.14515,     0.14615,     0.14715,     0.14815,     0.14915,     0.15015,     0.15115,     0.15215,     0.15315,     0.15415,     0.15516,     0.15616,     0.15716,     0.15816,     0.15916,     0.16016,     0.16116,     0.16216,     0.16316,     0.16416,     0.16517,     0.16617,     0.16717,\n",
       "           0.16817,     0.16917,     0.17017,     0.17117,     0.17217,     0.17317,     0.17417,     0.17518,     0.17618,     0.17718,     0.17818,     0.17918,     0.18018,     0.18118,     0.18218,     0.18318,     0.18418,     0.18519,     0.18619,     0.18719,     0.18819,     0.18919,     0.19019,     0.19119,\n",
       "           0.19219,     0.19319,     0.19419,      0.1952,      0.1962,      0.1972,      0.1982,      0.1992,      0.2002,      0.2012,      0.2022,      0.2032,      0.2042,     0.20521,     0.20621,     0.20721,     0.20821,     0.20921,     0.21021,     0.21121,     0.21221,     0.21321,     0.21421,     0.21522,\n",
       "           0.21622,     0.21722,     0.21822,     0.21922,     0.22022,     0.22122,     0.22222,     0.22322,     0.22422,     0.22523,     0.22623,     0.22723,     0.22823,     0.22923,     0.23023,     0.23123,     0.23223,     0.23323,     0.23423,     0.23524,     0.23624,     0.23724,     0.23824,     0.23924,\n",
       "           0.24024,     0.24124,     0.24224,     0.24324,     0.24424,     0.24525,     0.24625,     0.24725,     0.24825,     0.24925,     0.25025,     0.25125,     0.25225,     0.25325,     0.25425,     0.25526,     0.25626,     0.25726,     0.25826,     0.25926,     0.26026,     0.26126,     0.26226,     0.26326,\n",
       "           0.26426,     0.26527,     0.26627,     0.26727,     0.26827,     0.26927,     0.27027,     0.27127,     0.27227,     0.27327,     0.27427,     0.27528,     0.27628,     0.27728,     0.27828,     0.27928,     0.28028,     0.28128,     0.28228,     0.28328,     0.28428,     0.28529,     0.28629,     0.28729,\n",
       "           0.28829,     0.28929,     0.29029,     0.29129,     0.29229,     0.29329,     0.29429,      0.2953,      0.2963,      0.2973,      0.2983,      0.2993,      0.3003,      0.3013,      0.3023,      0.3033,      0.3043,     0.30531,     0.30631,     0.30731,     0.30831,     0.30931,     0.31031,     0.31131,\n",
       "           0.31231,     0.31331,     0.31431,     0.31532,     0.31632,     0.31732,     0.31832,     0.31932,     0.32032,     0.32132,     0.32232,     0.32332,     0.32432,     0.32533,     0.32633,     0.32733,     0.32833,     0.32933,     0.33033,     0.33133,     0.33233,     0.33333,     0.33433,     0.33534,\n",
       "           0.33634,     0.33734,     0.33834,     0.33934,     0.34034,     0.34134,     0.34234,     0.34334,     0.34434,     0.34535,     0.34635,     0.34735,     0.34835,     0.34935,     0.35035,     0.35135,     0.35235,     0.35335,     0.35435,     0.35536,     0.35636,     0.35736,     0.35836,     0.35936,\n",
       "           0.36036,     0.36136,     0.36236,     0.36336,     0.36436,     0.36537,     0.36637,     0.36737,     0.36837,     0.36937,     0.37037,     0.37137,     0.37237,     0.37337,     0.37437,     0.37538,     0.37638,     0.37738,     0.37838,     0.37938,     0.38038,     0.38138,     0.38238,     0.38338,\n",
       "           0.38438,     0.38539,     0.38639,     0.38739,     0.38839,     0.38939,     0.39039,     0.39139,     0.39239,     0.39339,     0.39439,      0.3954,      0.3964,      0.3974,      0.3984,      0.3994,      0.4004,      0.4014,      0.4024,      0.4034,      0.4044,     0.40541,     0.40641,     0.40741,\n",
       "           0.40841,     0.40941,     0.41041,     0.41141,     0.41241,     0.41341,     0.41441,     0.41542,     0.41642,     0.41742,     0.41842,     0.41942,     0.42042,     0.42142,     0.42242,     0.42342,     0.42442,     0.42543,     0.42643,     0.42743,     0.42843,     0.42943,     0.43043,     0.43143,\n",
       "           0.43243,     0.43343,     0.43443,     0.43544,     0.43644,     0.43744,     0.43844,     0.43944,     0.44044,     0.44144,     0.44244,     0.44344,     0.44444,     0.44545,     0.44645,     0.44745,     0.44845,     0.44945,     0.45045,     0.45145,     0.45245,     0.45345,     0.45445,     0.45546,\n",
       "           0.45646,     0.45746,     0.45846,     0.45946,     0.46046,     0.46146,     0.46246,     0.46346,     0.46446,     0.46547,     0.46647,     0.46747,     0.46847,     0.46947,     0.47047,     0.47147,     0.47247,     0.47347,     0.47447,     0.47548,     0.47648,     0.47748,     0.47848,     0.47948,\n",
       "           0.48048,     0.48148,     0.48248,     0.48348,     0.48448,     0.48549,     0.48649,     0.48749,     0.48849,     0.48949,     0.49049,     0.49149,     0.49249,     0.49349,     0.49449,      0.4955,      0.4965,      0.4975,      0.4985,      0.4995,      0.5005,      0.5015,      0.5025,      0.5035,\n",
       "            0.5045,     0.50551,     0.50651,     0.50751,     0.50851,     0.50951,     0.51051,     0.51151,     0.51251,     0.51351,     0.51451,     0.51552,     0.51652,     0.51752,     0.51852,     0.51952,     0.52052,     0.52152,     0.52252,     0.52352,     0.52452,     0.52553,     0.52653,     0.52753,\n",
       "           0.52853,     0.52953,     0.53053,     0.53153,     0.53253,     0.53353,     0.53453,     0.53554,     0.53654,     0.53754,     0.53854,     0.53954,     0.54054,     0.54154,     0.54254,     0.54354,     0.54454,     0.54555,     0.54655,     0.54755,     0.54855,     0.54955,     0.55055,     0.55155,\n",
       "           0.55255,     0.55355,     0.55455,     0.55556,     0.55656,     0.55756,     0.55856,     0.55956,     0.56056,     0.56156,     0.56256,     0.56356,     0.56456,     0.56557,     0.56657,     0.56757,     0.56857,     0.56957,     0.57057,     0.57157,     0.57257,     0.57357,     0.57457,     0.57558,\n",
       "           0.57658,     0.57758,     0.57858,     0.57958,     0.58058,     0.58158,     0.58258,     0.58358,     0.58458,     0.58559,     0.58659,     0.58759,     0.58859,     0.58959,     0.59059,     0.59159,     0.59259,     0.59359,     0.59459,      0.5956,      0.5966,      0.5976,      0.5986,      0.5996,\n",
       "            0.6006,      0.6016,      0.6026,      0.6036,      0.6046,     0.60561,     0.60661,     0.60761,     0.60861,     0.60961,     0.61061,     0.61161,     0.61261,     0.61361,     0.61461,     0.61562,     0.61662,     0.61762,     0.61862,     0.61962,     0.62062,     0.62162,     0.62262,     0.62362,\n",
       "           0.62462,     0.62563,     0.62663,     0.62763,     0.62863,     0.62963,     0.63063,     0.63163,     0.63263,     0.63363,     0.63463,     0.63564,     0.63664,     0.63764,     0.63864,     0.63964,     0.64064,     0.64164,     0.64264,     0.64364,     0.64464,     0.64565,     0.64665,     0.64765,\n",
       "           0.64865,     0.64965,     0.65065,     0.65165,     0.65265,     0.65365,     0.65465,     0.65566,     0.65666,     0.65766,     0.65866,     0.65966,     0.66066,     0.66166,     0.66266,     0.66366,     0.66466,     0.66567,     0.66667,     0.66767,     0.66867,     0.66967,     0.67067,     0.67167,\n",
       "           0.67267,     0.67367,     0.67467,     0.67568,     0.67668,     0.67768,     0.67868,     0.67968,     0.68068,     0.68168,     0.68268,     0.68368,     0.68468,     0.68569,     0.68669,     0.68769,     0.68869,     0.68969,     0.69069,     0.69169,     0.69269,     0.69369,     0.69469,      0.6957,\n",
       "            0.6967,      0.6977,      0.6987,      0.6997,      0.7007,      0.7017,      0.7027,      0.7037,      0.7047,     0.70571,     0.70671,     0.70771,     0.70871,     0.70971,     0.71071,     0.71171,     0.71271,     0.71371,     0.71471,     0.71572,     0.71672,     0.71772,     0.71872,     0.71972,\n",
       "           0.72072,     0.72172,     0.72272,     0.72372,     0.72472,     0.72573,     0.72673,     0.72773,     0.72873,     0.72973,     0.73073,     0.73173,     0.73273,     0.73373,     0.73473,     0.73574,     0.73674,     0.73774,     0.73874,     0.73974,     0.74074,     0.74174,     0.74274,     0.74374,\n",
       "           0.74474,     0.74575,     0.74675,     0.74775,     0.74875,     0.74975,     0.75075,     0.75175,     0.75275,     0.75375,     0.75475,     0.75576,     0.75676,     0.75776,     0.75876,     0.75976,     0.76076,     0.76176,     0.76276,     0.76376,     0.76476,     0.76577,     0.76677,     0.76777,\n",
       "           0.76877,     0.76977,     0.77077,     0.77177,     0.77277,     0.77377,     0.77477,     0.77578,     0.77678,     0.77778,     0.77878,     0.77978,     0.78078,     0.78178,     0.78278,     0.78378,     0.78478,     0.78579,     0.78679,     0.78779,     0.78879,     0.78979,     0.79079,     0.79179,\n",
       "           0.79279,     0.79379,     0.79479,      0.7958,      0.7968,      0.7978,      0.7988,      0.7998,      0.8008,      0.8018,      0.8028,      0.8038,      0.8048,     0.80581,     0.80681,     0.80781,     0.80881,     0.80981,     0.81081,     0.81181,     0.81281,     0.81381,     0.81481,     0.81582,\n",
       "           0.81682,     0.81782,     0.81882,     0.81982,     0.82082,     0.82182,     0.82282,     0.82382,     0.82482,     0.82583,     0.82683,     0.82783,     0.82883,     0.82983,     0.83083,     0.83183,     0.83283,     0.83383,     0.83483,     0.83584,     0.83684,     0.83784,     0.83884,     0.83984,\n",
       "           0.84084,     0.84184,     0.84284,     0.84384,     0.84484,     0.84585,     0.84685,     0.84785,     0.84885,     0.84985,     0.85085,     0.85185,     0.85285,     0.85385,     0.85485,     0.85586,     0.85686,     0.85786,     0.85886,     0.85986,     0.86086,     0.86186,     0.86286,     0.86386,\n",
       "           0.86486,     0.86587,     0.86687,     0.86787,     0.86887,     0.86987,     0.87087,     0.87187,     0.87287,     0.87387,     0.87487,     0.87588,     0.87688,     0.87788,     0.87888,     0.87988,     0.88088,     0.88188,     0.88288,     0.88388,     0.88488,     0.88589,     0.88689,     0.88789,\n",
       "           0.88889,     0.88989,     0.89089,     0.89189,     0.89289,     0.89389,     0.89489,      0.8959,      0.8969,      0.8979,      0.8989,      0.8999,      0.9009,      0.9019,      0.9029,      0.9039,      0.9049,     0.90591,     0.90691,     0.90791,     0.90891,     0.90991,     0.91091,     0.91191,\n",
       "           0.91291,     0.91391,     0.91491,     0.91592,     0.91692,     0.91792,     0.91892,     0.91992,     0.92092,     0.92192,     0.92292,     0.92392,     0.92492,     0.92593,     0.92693,     0.92793,     0.92893,     0.92993,     0.93093,     0.93193,     0.93293,     0.93393,     0.93493,     0.93594,\n",
       "           0.93694,     0.93794,     0.93894,     0.93994,     0.94094,     0.94194,     0.94294,     0.94394,     0.94494,     0.94595,     0.94695,     0.94795,     0.94895,     0.94995,     0.95095,     0.95195,     0.95295,     0.95395,     0.95495,     0.95596,     0.95696,     0.95796,     0.95896,     0.95996,\n",
       "           0.96096,     0.96196,     0.96296,     0.96396,     0.96496,     0.96597,     0.96697,     0.96797,     0.96897,     0.96997,     0.97097,     0.97197,     0.97297,     0.97397,     0.97497,     0.97598,     0.97698,     0.97798,     0.97898,     0.97998,     0.98098,     0.98198,     0.98298,     0.98398,\n",
       "           0.98498,     0.98599,     0.98699,     0.98799,     0.98899,     0.98999,     0.99099,     0.99199,     0.99299,     0.99399,     0.99499,       0.996,       0.997,       0.998,       0.999,           1]), array([[    0.62653,     0.62653,     0.74088,     0.79069,     0.81981,      0.8401,     0.85745,     0.86851,     0.87322,     0.88525,     0.88664,     0.88661,     0.89664,     0.89953,     0.91296,     0.91611,     0.91586,     0.91561,      0.9163,       0.917,     0.91769,     0.91838,      0.9197,\n",
       "            0.92124,     0.92228,      0.9232,     0.92411,     0.92615,     0.92782,     0.92817,     0.92852,     0.92887,     0.92921,     0.92956,     0.92991,     0.93026,     0.93061,     0.93064,     0.93058,     0.93051,     0.93063,     0.93113,     0.93164,     0.93214,     0.93264,     0.93314,\n",
       "            0.93355,     0.93353,     0.93351,     0.93349,     0.93348,     0.93346,     0.93344,     0.93342,      0.9334,     0.93338,     0.93336,     0.93334,     0.93674,     0.93785,     0.93896,     0.93993,     0.94072,     0.94152,     0.94231,     0.94298,      0.9435,     0.94402,     0.94453,\n",
       "            0.94505,     0.94557,     0.94639,     0.94803,     0.95069,     0.95255,      0.9528,     0.95306,     0.95331,     0.95357,     0.95382,     0.95408,     0.95433,     0.95459,     0.95484,      0.9551,     0.95535,     0.95561,     0.95618,     0.95679,      0.9574,     0.95801,     0.95862,\n",
       "             0.9593,     0.96004,     0.96078,     0.96152,      0.9622,     0.96216,     0.96212,     0.96208,     0.96201,     0.96194,     0.96186,      0.9618,      0.9618,      0.9618,     0.96179,     0.96179,     0.96179,     0.96178,     0.96178,     0.96177,     0.96177,     0.96177,     0.96176,\n",
       "            0.96176,     0.96176,     0.96175,     0.96175,     0.96174,     0.96174,     0.96174,     0.96173,     0.96173,     0.96172,     0.96172,     0.96172,     0.96171,     0.96171,     0.96171,      0.9617,      0.9617,     0.96169,     0.96169,     0.96169,     0.96168,     0.96168,     0.96168,\n",
       "            0.96167,     0.96165,     0.96163,     0.96161,      0.9616,     0.96158,     0.96156,     0.96154,     0.96148,     0.96146,     0.96245,     0.96344,     0.96443,     0.96477,     0.96474,     0.96472,     0.96469,     0.96466,     0.96462,     0.96458,     0.96454,     0.96454,     0.96453,\n",
       "            0.96453,     0.96453,     0.96452,     0.96452,     0.96452,     0.96451,     0.96451,     0.96451,     0.96451,      0.9645,      0.9645,      0.9645,     0.96449,     0.96449,     0.96449,     0.96448,     0.96448,     0.96448,     0.96448,     0.96447,     0.96447,     0.96447,     0.96446,\n",
       "            0.96446,     0.96446,     0.96445,     0.96445,     0.96445,     0.96445,     0.96444,     0.96444,     0.96444,     0.96443,     0.96443,     0.96443,     0.96442,     0.96442,     0.96442,     0.96441,     0.96441,     0.96441,      0.9644,      0.9644,      0.9644,     0.96439,     0.96439,\n",
       "            0.96439,     0.96438,     0.96438,     0.96438,     0.96437,     0.96437,     0.96436,     0.96436,     0.96436,     0.96435,     0.96435,     0.96435,     0.96434,     0.96434,     0.96434,     0.96433,     0.96433,     0.96432,     0.96432,     0.96432,     0.96431,     0.96431,     0.96431,\n",
       "             0.9643,      0.9643,      0.9643,     0.96429,     0.96429,     0.96428,     0.96427,     0.96425,     0.96424,     0.96422,     0.96421,     0.96419,     0.96418,     0.96416,     0.96416,     0.96415,     0.96415,     0.96415,     0.96415,     0.96415,     0.96414,     0.96414,     0.96414,\n",
       "            0.96414,     0.96414,     0.96413,     0.96413,     0.96413,     0.96413,     0.96412,     0.96412,     0.96412,     0.96412,     0.96412,     0.96411,     0.96411,     0.96411,     0.96411,     0.96411,      0.9641,      0.9641,      0.9641,      0.9641,     0.96409,     0.96409,     0.96409,\n",
       "            0.96409,     0.96409,     0.96408,     0.96408,     0.96408,     0.96408,     0.96408,     0.96407,     0.96407,     0.96407,     0.96407,     0.96406,     0.96406,     0.96406,     0.96406,     0.96406,     0.96405,     0.96405,     0.96405,     0.96405,     0.96405,     0.96404,     0.96404,\n",
       "            0.96404,     0.96404,     0.96403,     0.96403,     0.96403,     0.96394,      0.9639,     0.96389,     0.96389,     0.96389,     0.96388,     0.96388,     0.96388,     0.96387,     0.96387,     0.96386,     0.96386,     0.96386,     0.96385,     0.96385,     0.96385,     0.96384,     0.96384,\n",
       "            0.96384,     0.96383,     0.96383,     0.96383,     0.96382,     0.96382,     0.96382,     0.96381,     0.96381,     0.96381,      0.9638,      0.9638,     0.96379,     0.96379,     0.96379,     0.96378,     0.96378,     0.96378,     0.96377,     0.96377,     0.96377,     0.96376,     0.96375,\n",
       "            0.96375,     0.96374,     0.96373,     0.96373,     0.96372,     0.96371,     0.96371,      0.9637,     0.96369,     0.96369,     0.96368,     0.96367,     0.96366,     0.96366,     0.96365,     0.96364,     0.96364,     0.96363,     0.96362,      0.9636,     0.96359,     0.96358,     0.96357,\n",
       "            0.96356,     0.96355,     0.96354,     0.96353,     0.96351,      0.9635,      0.9635,     0.96349,     0.96349,     0.96348,     0.96348,     0.96347,     0.96347,     0.96346,     0.96346,     0.96346,     0.96345,     0.96345,     0.96344,     0.96344,     0.96343,     0.96343,     0.96342,\n",
       "            0.96342,     0.96341,     0.96341,      0.9634,      0.9634,     0.96339,     0.96339,     0.96338,     0.96338,     0.96337,     0.96337,     0.96336,     0.96335,     0.96335,     0.96334,     0.96333,     0.96332,     0.96332,     0.96331,      0.9633,      0.9633,     0.96329,     0.96328,\n",
       "            0.96327,     0.96327,     0.96326,     0.96325,     0.96324,     0.96324,     0.96323,     0.96322,     0.96321,      0.9632,     0.96319,     0.96319,     0.96318,     0.96317,     0.96316,     0.96315,     0.96314,     0.96313,     0.96312,     0.96312,     0.96311,     0.96309,     0.96301,\n",
       "            0.96296,     0.96296,     0.96295,     0.96295,     0.96294,     0.96294,     0.96293,     0.96293,     0.96292,     0.96292,     0.96291,     0.96291,      0.9629,      0.9629,     0.96289,     0.96289,     0.96288,     0.96288,     0.96287,     0.96287,     0.96287,     0.96286,     0.96286,\n",
       "            0.96285,     0.96285,     0.96284,     0.96284,     0.96283,     0.96283,     0.96282,     0.96282,     0.96282,     0.96282,     0.96281,     0.96281,     0.96281,     0.96281,      0.9628,      0.9628,      0.9628,      0.9628,     0.96279,     0.96279,     0.96279,     0.96279,     0.96278,\n",
       "            0.96278,     0.96278,     0.96278,     0.96277,     0.96277,     0.96277,     0.96277,     0.96276,     0.96276,     0.96276,     0.96276,     0.96275,     0.96275,     0.96275,     0.96275,     0.96274,     0.96274,     0.96274,     0.96274,     0.96273,     0.96273,     0.96273,     0.96273,\n",
       "            0.96272,     0.96272,     0.96272,     0.96272,     0.96271,     0.96271,     0.96271,     0.96271,      0.9627,      0.9627,      0.9627,      0.9627,      0.9627,     0.96269,     0.96269,     0.96269,     0.96268,     0.96267,     0.96266,     0.96265,     0.96264,     0.96263,     0.96261,\n",
       "             0.9626,     0.96259,     0.96258,     0.96257,     0.96256,     0.96255,      0.9624,      0.9624,      0.9624,      0.9624,      0.9624,      0.9624,     0.96239,     0.96239,     0.96239,     0.96239,     0.96239,     0.96239,     0.96238,     0.96238,     0.96238,     0.96238,     0.96238,\n",
       "            0.96238,     0.96237,     0.96237,     0.96237,     0.96237,     0.96237,     0.96237,     0.96236,     0.96236,     0.96236,     0.96236,     0.96236,     0.96236,     0.96236,     0.96235,     0.96235,     0.96235,     0.96235,     0.96235,     0.96235,     0.96234,     0.96234,     0.96234,\n",
       "            0.96234,     0.96234,     0.96234,     0.96233,     0.96233,     0.96233,     0.96233,     0.96233,     0.96233,     0.96232,     0.96232,     0.96232,     0.96232,     0.96232,     0.96232,     0.96231,     0.96231,     0.96231,     0.96231,     0.96231,     0.96231,      0.9623,      0.9623,\n",
       "             0.9623,      0.9623,      0.9623,      0.9623,     0.96229,     0.96229,     0.96229,     0.96229,     0.96229,     0.96229,     0.96228,     0.96228,     0.96228,     0.96228,     0.96228,     0.96228,     0.96227,     0.96227,     0.96227,     0.96227,     0.96227,     0.96227,     0.96226,\n",
       "            0.96225,     0.96224,     0.96223,     0.96222,     0.96221,      0.9622,     0.96219,     0.96218,     0.96217,     0.96216,     0.96215,     0.96214,     0.96213,     0.96212,     0.96211,      0.9621,     0.96209,     0.96207,     0.96206,     0.96205,     0.96204,     0.96202,     0.96201,\n",
       "              0.962,     0.96199,     0.96198,     0.96198,     0.96197,     0.96197,     0.96197,     0.96197,     0.96197,     0.96197,     0.96196,     0.96196,     0.96196,     0.96196,     0.96196,     0.96196,     0.96196,     0.96195,     0.96195,     0.96195,     0.96195,     0.96195,     0.96195,\n",
       "            0.96194,     0.96194,     0.96194,     0.96194,     0.96194,     0.96194,     0.96194,     0.96193,     0.96193,     0.96193,     0.96193,     0.96193,     0.96193,     0.96192,     0.96192,     0.96192,     0.96192,     0.96192,     0.96192,     0.96191,     0.96191,     0.96191,     0.96191,\n",
       "            0.96191,     0.96191,     0.96191,      0.9619,      0.9619,      0.9619,      0.9619,      0.9619,      0.9619,     0.96189,     0.96189,     0.96189,     0.96189,     0.96189,     0.96189,     0.96189,     0.96188,     0.96188,     0.96188,     0.96188,     0.96188,     0.96188,     0.96187,\n",
       "            0.96187,     0.96187,     0.96187,     0.96187,     0.96187,     0.96187,     0.96186,     0.96186,     0.96186,     0.96186,     0.96186,     0.96186,     0.96185,     0.96185,     0.96185,     0.96185,     0.96185,     0.96185,     0.96185,     0.96184,     0.96184,     0.96184,     0.96184,\n",
       "            0.96184,     0.96184,     0.96183,     0.96183,     0.96183,     0.96182,     0.96182,     0.96181,     0.96181,      0.9618,      0.9618,     0.96179,     0.96179,     0.96178,     0.96178,     0.96177,     0.96177,     0.96176,     0.96176,     0.96175,     0.96175,     0.96174,     0.96174,\n",
       "            0.96173,     0.96173,     0.96172,     0.96172,     0.96171,     0.96171,      0.9617,      0.9617,     0.96169,     0.96169,     0.96168,     0.96168,     0.96167,     0.96167,     0.96167,     0.96166,     0.96166,     0.96166,     0.96165,     0.96165,     0.96165,     0.96164,     0.96164,\n",
       "            0.96164,     0.96163,     0.96163,     0.96163,     0.96162,     0.96162,     0.96161,     0.96161,     0.96161,      0.9616,      0.9616,      0.9616,     0.96159,     0.96159,     0.96159,     0.96158,     0.96158,     0.96158,     0.96157,     0.96157,     0.96157,     0.96156,     0.96156,\n",
       "            0.96156,     0.96155,     0.96155,     0.96154,     0.96154,     0.96154,     0.96153,     0.96152,     0.96151,     0.96151,      0.9615,     0.96149,     0.96148,     0.96148,     0.96147,     0.96146,     0.96145,     0.96145,     0.96144,     0.96143,     0.96142,     0.96141,     0.96141,\n",
       "             0.9614,     0.96139,     0.96127,     0.96108,     0.96106,     0.96103,       0.961,     0.96098,     0.96095,     0.96093,      0.9609,     0.96087,     0.96084,     0.96081,     0.96078,     0.96072,     0.96065,     0.96061,     0.96057,     0.96054,      0.9605,     0.96044,     0.96027,\n",
       "            0.96014,     0.96005,     0.96134,     0.96382,     0.96372,     0.96367,     0.96363,     0.96358,     0.96342,     0.96323,      0.9632,     0.96316,     0.96313,     0.96307,     0.96299,      0.9628,     0.96274,     0.96267,     0.96242,     0.96184,     0.96172,      0.9615,     0.96139,\n",
       "            0.96074,     0.96028,     0.96003,     0.95965,      0.9591,      0.9589,     0.95852,     0.95784,     0.95692,     0.95669,     0.95626,     0.95538,     0.95447,     0.95415,      0.9535,     0.95294,     0.95154,     0.94955,     0.94778,     0.94588,     0.94419,     0.94201,     0.93966,\n",
       "            0.94132,     0.94032,     0.94528,     0.94115,     0.94387,     0.94784,     0.94612,     0.96375,     0.96283,     0.95927,     0.95356,     0.96463,     0.96059,     0.95872,     0.95392,     0.97323,           1,           1,           1,           1,           1,           1,           1,\n",
       "                  1,           1,           1,           1,           1,           1,           1,           1,           1,           1,           1,           1,           1,           1,           1,           1,           1,           1,           1,           1,           1,           1,           1,\n",
       "                  1,           1,           1,           1,           1,           1,           1,           1,           1,           1,           1,           1,           1,           1,           1,           1,           1,           1,           1,           1,           1,           1,           1,\n",
       "                  1,           1,           1,           1,           1,           1,           1,           1,           1,           1,           1,           1,           1,           1,           1,           1,           1,           1,           1,           1,           1,           1,           1,\n",
       "                  1,           1,           1,           1,           1,           1,           1,           1,           1,           1,           1]]), 'Confidence', 'Precision'], [array([          0,    0.001001,    0.002002,    0.003003,    0.004004,    0.005005,    0.006006,    0.007007,    0.008008,    0.009009,     0.01001,    0.011011,    0.012012,    0.013013,    0.014014,    0.015015,    0.016016,    0.017017,    0.018018,    0.019019,     0.02002,    0.021021,    0.022022,    0.023023,\n",
       "          0.024024,    0.025025,    0.026026,    0.027027,    0.028028,    0.029029,     0.03003,    0.031031,    0.032032,    0.033033,    0.034034,    0.035035,    0.036036,    0.037037,    0.038038,    0.039039,     0.04004,    0.041041,    0.042042,    0.043043,    0.044044,    0.045045,    0.046046,    0.047047,\n",
       "          0.048048,    0.049049,     0.05005,    0.051051,    0.052052,    0.053053,    0.054054,    0.055055,    0.056056,    0.057057,    0.058058,    0.059059,     0.06006,    0.061061,    0.062062,    0.063063,    0.064064,    0.065065,    0.066066,    0.067067,    0.068068,    0.069069,     0.07007,    0.071071,\n",
       "          0.072072,    0.073073,    0.074074,    0.075075,    0.076076,    0.077077,    0.078078,    0.079079,     0.08008,    0.081081,    0.082082,    0.083083,    0.084084,    0.085085,    0.086086,    0.087087,    0.088088,    0.089089,     0.09009,    0.091091,    0.092092,    0.093093,    0.094094,    0.095095,\n",
       "          0.096096,    0.097097,    0.098098,    0.099099,      0.1001,      0.1011,      0.1021,      0.1031,      0.1041,     0.10511,     0.10611,     0.10711,     0.10811,     0.10911,     0.11011,     0.11111,     0.11211,     0.11311,     0.11411,     0.11512,     0.11612,     0.11712,     0.11812,     0.11912,\n",
       "           0.12012,     0.12112,     0.12212,     0.12312,     0.12412,     0.12513,     0.12613,     0.12713,     0.12813,     0.12913,     0.13013,     0.13113,     0.13213,     0.13313,     0.13413,     0.13514,     0.13614,     0.13714,     0.13814,     0.13914,     0.14014,     0.14114,     0.14214,     0.14314,\n",
       "           0.14414,     0.14515,     0.14615,     0.14715,     0.14815,     0.14915,     0.15015,     0.15115,     0.15215,     0.15315,     0.15415,     0.15516,     0.15616,     0.15716,     0.15816,     0.15916,     0.16016,     0.16116,     0.16216,     0.16316,     0.16416,     0.16517,     0.16617,     0.16717,\n",
       "           0.16817,     0.16917,     0.17017,     0.17117,     0.17217,     0.17317,     0.17417,     0.17518,     0.17618,     0.17718,     0.17818,     0.17918,     0.18018,     0.18118,     0.18218,     0.18318,     0.18418,     0.18519,     0.18619,     0.18719,     0.18819,     0.18919,     0.19019,     0.19119,\n",
       "           0.19219,     0.19319,     0.19419,      0.1952,      0.1962,      0.1972,      0.1982,      0.1992,      0.2002,      0.2012,      0.2022,      0.2032,      0.2042,     0.20521,     0.20621,     0.20721,     0.20821,     0.20921,     0.21021,     0.21121,     0.21221,     0.21321,     0.21421,     0.21522,\n",
       "           0.21622,     0.21722,     0.21822,     0.21922,     0.22022,     0.22122,     0.22222,     0.22322,     0.22422,     0.22523,     0.22623,     0.22723,     0.22823,     0.22923,     0.23023,     0.23123,     0.23223,     0.23323,     0.23423,     0.23524,     0.23624,     0.23724,     0.23824,     0.23924,\n",
       "           0.24024,     0.24124,     0.24224,     0.24324,     0.24424,     0.24525,     0.24625,     0.24725,     0.24825,     0.24925,     0.25025,     0.25125,     0.25225,     0.25325,     0.25425,     0.25526,     0.25626,     0.25726,     0.25826,     0.25926,     0.26026,     0.26126,     0.26226,     0.26326,\n",
       "           0.26426,     0.26527,     0.26627,     0.26727,     0.26827,     0.26927,     0.27027,     0.27127,     0.27227,     0.27327,     0.27427,     0.27528,     0.27628,     0.27728,     0.27828,     0.27928,     0.28028,     0.28128,     0.28228,     0.28328,     0.28428,     0.28529,     0.28629,     0.28729,\n",
       "           0.28829,     0.28929,     0.29029,     0.29129,     0.29229,     0.29329,     0.29429,      0.2953,      0.2963,      0.2973,      0.2983,      0.2993,      0.3003,      0.3013,      0.3023,      0.3033,      0.3043,     0.30531,     0.30631,     0.30731,     0.30831,     0.30931,     0.31031,     0.31131,\n",
       "           0.31231,     0.31331,     0.31431,     0.31532,     0.31632,     0.31732,     0.31832,     0.31932,     0.32032,     0.32132,     0.32232,     0.32332,     0.32432,     0.32533,     0.32633,     0.32733,     0.32833,     0.32933,     0.33033,     0.33133,     0.33233,     0.33333,     0.33433,     0.33534,\n",
       "           0.33634,     0.33734,     0.33834,     0.33934,     0.34034,     0.34134,     0.34234,     0.34334,     0.34434,     0.34535,     0.34635,     0.34735,     0.34835,     0.34935,     0.35035,     0.35135,     0.35235,     0.35335,     0.35435,     0.35536,     0.35636,     0.35736,     0.35836,     0.35936,\n",
       "           0.36036,     0.36136,     0.36236,     0.36336,     0.36436,     0.36537,     0.36637,     0.36737,     0.36837,     0.36937,     0.37037,     0.37137,     0.37237,     0.37337,     0.37437,     0.37538,     0.37638,     0.37738,     0.37838,     0.37938,     0.38038,     0.38138,     0.38238,     0.38338,\n",
       "           0.38438,     0.38539,     0.38639,     0.38739,     0.38839,     0.38939,     0.39039,     0.39139,     0.39239,     0.39339,     0.39439,      0.3954,      0.3964,      0.3974,      0.3984,      0.3994,      0.4004,      0.4014,      0.4024,      0.4034,      0.4044,     0.40541,     0.40641,     0.40741,\n",
       "           0.40841,     0.40941,     0.41041,     0.41141,     0.41241,     0.41341,     0.41441,     0.41542,     0.41642,     0.41742,     0.41842,     0.41942,     0.42042,     0.42142,     0.42242,     0.42342,     0.42442,     0.42543,     0.42643,     0.42743,     0.42843,     0.42943,     0.43043,     0.43143,\n",
       "           0.43243,     0.43343,     0.43443,     0.43544,     0.43644,     0.43744,     0.43844,     0.43944,     0.44044,     0.44144,     0.44244,     0.44344,     0.44444,     0.44545,     0.44645,     0.44745,     0.44845,     0.44945,     0.45045,     0.45145,     0.45245,     0.45345,     0.45445,     0.45546,\n",
       "           0.45646,     0.45746,     0.45846,     0.45946,     0.46046,     0.46146,     0.46246,     0.46346,     0.46446,     0.46547,     0.46647,     0.46747,     0.46847,     0.46947,     0.47047,     0.47147,     0.47247,     0.47347,     0.47447,     0.47548,     0.47648,     0.47748,     0.47848,     0.47948,\n",
       "           0.48048,     0.48148,     0.48248,     0.48348,     0.48448,     0.48549,     0.48649,     0.48749,     0.48849,     0.48949,     0.49049,     0.49149,     0.49249,     0.49349,     0.49449,      0.4955,      0.4965,      0.4975,      0.4985,      0.4995,      0.5005,      0.5015,      0.5025,      0.5035,\n",
       "            0.5045,     0.50551,     0.50651,     0.50751,     0.50851,     0.50951,     0.51051,     0.51151,     0.51251,     0.51351,     0.51451,     0.51552,     0.51652,     0.51752,     0.51852,     0.51952,     0.52052,     0.52152,     0.52252,     0.52352,     0.52452,     0.52553,     0.52653,     0.52753,\n",
       "           0.52853,     0.52953,     0.53053,     0.53153,     0.53253,     0.53353,     0.53453,     0.53554,     0.53654,     0.53754,     0.53854,     0.53954,     0.54054,     0.54154,     0.54254,     0.54354,     0.54454,     0.54555,     0.54655,     0.54755,     0.54855,     0.54955,     0.55055,     0.55155,\n",
       "           0.55255,     0.55355,     0.55455,     0.55556,     0.55656,     0.55756,     0.55856,     0.55956,     0.56056,     0.56156,     0.56256,     0.56356,     0.56456,     0.56557,     0.56657,     0.56757,     0.56857,     0.56957,     0.57057,     0.57157,     0.57257,     0.57357,     0.57457,     0.57558,\n",
       "           0.57658,     0.57758,     0.57858,     0.57958,     0.58058,     0.58158,     0.58258,     0.58358,     0.58458,     0.58559,     0.58659,     0.58759,     0.58859,     0.58959,     0.59059,     0.59159,     0.59259,     0.59359,     0.59459,      0.5956,      0.5966,      0.5976,      0.5986,      0.5996,\n",
       "            0.6006,      0.6016,      0.6026,      0.6036,      0.6046,     0.60561,     0.60661,     0.60761,     0.60861,     0.60961,     0.61061,     0.61161,     0.61261,     0.61361,     0.61461,     0.61562,     0.61662,     0.61762,     0.61862,     0.61962,     0.62062,     0.62162,     0.62262,     0.62362,\n",
       "           0.62462,     0.62563,     0.62663,     0.62763,     0.62863,     0.62963,     0.63063,     0.63163,     0.63263,     0.63363,     0.63463,     0.63564,     0.63664,     0.63764,     0.63864,     0.63964,     0.64064,     0.64164,     0.64264,     0.64364,     0.64464,     0.64565,     0.64665,     0.64765,\n",
       "           0.64865,     0.64965,     0.65065,     0.65165,     0.65265,     0.65365,     0.65465,     0.65566,     0.65666,     0.65766,     0.65866,     0.65966,     0.66066,     0.66166,     0.66266,     0.66366,     0.66466,     0.66567,     0.66667,     0.66767,     0.66867,     0.66967,     0.67067,     0.67167,\n",
       "           0.67267,     0.67367,     0.67467,     0.67568,     0.67668,     0.67768,     0.67868,     0.67968,     0.68068,     0.68168,     0.68268,     0.68368,     0.68468,     0.68569,     0.68669,     0.68769,     0.68869,     0.68969,     0.69069,     0.69169,     0.69269,     0.69369,     0.69469,      0.6957,\n",
       "            0.6967,      0.6977,      0.6987,      0.6997,      0.7007,      0.7017,      0.7027,      0.7037,      0.7047,     0.70571,     0.70671,     0.70771,     0.70871,     0.70971,     0.71071,     0.71171,     0.71271,     0.71371,     0.71471,     0.71572,     0.71672,     0.71772,     0.71872,     0.71972,\n",
       "           0.72072,     0.72172,     0.72272,     0.72372,     0.72472,     0.72573,     0.72673,     0.72773,     0.72873,     0.72973,     0.73073,     0.73173,     0.73273,     0.73373,     0.73473,     0.73574,     0.73674,     0.73774,     0.73874,     0.73974,     0.74074,     0.74174,     0.74274,     0.74374,\n",
       "           0.74474,     0.74575,     0.74675,     0.74775,     0.74875,     0.74975,     0.75075,     0.75175,     0.75275,     0.75375,     0.75475,     0.75576,     0.75676,     0.75776,     0.75876,     0.75976,     0.76076,     0.76176,     0.76276,     0.76376,     0.76476,     0.76577,     0.76677,     0.76777,\n",
       "           0.76877,     0.76977,     0.77077,     0.77177,     0.77277,     0.77377,     0.77477,     0.77578,     0.77678,     0.77778,     0.77878,     0.77978,     0.78078,     0.78178,     0.78278,     0.78378,     0.78478,     0.78579,     0.78679,     0.78779,     0.78879,     0.78979,     0.79079,     0.79179,\n",
       "           0.79279,     0.79379,     0.79479,      0.7958,      0.7968,      0.7978,      0.7988,      0.7998,      0.8008,      0.8018,      0.8028,      0.8038,      0.8048,     0.80581,     0.80681,     0.80781,     0.80881,     0.80981,     0.81081,     0.81181,     0.81281,     0.81381,     0.81481,     0.81582,\n",
       "           0.81682,     0.81782,     0.81882,     0.81982,     0.82082,     0.82182,     0.82282,     0.82382,     0.82482,     0.82583,     0.82683,     0.82783,     0.82883,     0.82983,     0.83083,     0.83183,     0.83283,     0.83383,     0.83483,     0.83584,     0.83684,     0.83784,     0.83884,     0.83984,\n",
       "           0.84084,     0.84184,     0.84284,     0.84384,     0.84484,     0.84585,     0.84685,     0.84785,     0.84885,     0.84985,     0.85085,     0.85185,     0.85285,     0.85385,     0.85485,     0.85586,     0.85686,     0.85786,     0.85886,     0.85986,     0.86086,     0.86186,     0.86286,     0.86386,\n",
       "           0.86486,     0.86587,     0.86687,     0.86787,     0.86887,     0.86987,     0.87087,     0.87187,     0.87287,     0.87387,     0.87487,     0.87588,     0.87688,     0.87788,     0.87888,     0.87988,     0.88088,     0.88188,     0.88288,     0.88388,     0.88488,     0.88589,     0.88689,     0.88789,\n",
       "           0.88889,     0.88989,     0.89089,     0.89189,     0.89289,     0.89389,     0.89489,      0.8959,      0.8969,      0.8979,      0.8989,      0.8999,      0.9009,      0.9019,      0.9029,      0.9039,      0.9049,     0.90591,     0.90691,     0.90791,     0.90891,     0.90991,     0.91091,     0.91191,\n",
       "           0.91291,     0.91391,     0.91491,     0.91592,     0.91692,     0.91792,     0.91892,     0.91992,     0.92092,     0.92192,     0.92292,     0.92392,     0.92492,     0.92593,     0.92693,     0.92793,     0.92893,     0.92993,     0.93093,     0.93193,     0.93293,     0.93393,     0.93493,     0.93594,\n",
       "           0.93694,     0.93794,     0.93894,     0.93994,     0.94094,     0.94194,     0.94294,     0.94394,     0.94494,     0.94595,     0.94695,     0.94795,     0.94895,     0.94995,     0.95095,     0.95195,     0.95295,     0.95395,     0.95495,     0.95596,     0.95696,     0.95796,     0.95896,     0.95996,\n",
       "           0.96096,     0.96196,     0.96296,     0.96396,     0.96496,     0.96597,     0.96697,     0.96797,     0.96897,     0.96997,     0.97097,     0.97197,     0.97297,     0.97397,     0.97497,     0.97598,     0.97698,     0.97798,     0.97898,     0.97998,     0.98098,     0.98198,     0.98298,     0.98398,\n",
       "           0.98498,     0.98599,     0.98699,     0.98799,     0.98899,     0.98999,     0.99099,     0.99199,     0.99299,     0.99399,     0.99499,       0.996,       0.997,       0.998,       0.999,           1]), array([[    0.77525,     0.77525,      0.7601,     0.75505,     0.75505,     0.74242,      0.7399,     0.73737,     0.73232,     0.73232,     0.73078,     0.72475,     0.72475,     0.72475,     0.72222,     0.71703,     0.71466,     0.71212,     0.71212,     0.71212,     0.71212,     0.71212,     0.71212,\n",
       "            0.71212,     0.71212,     0.71212,     0.71212,     0.71212,     0.71212,     0.71212,     0.71212,     0.71212,     0.71212,     0.71212,     0.71212,     0.71212,     0.71212,     0.71157,     0.71083,     0.71009,      0.7096,      0.7096,      0.7096,      0.7096,      0.7096,      0.7096,\n",
       "            0.70956,     0.70934,     0.70912,     0.70891,     0.70869,     0.70847,     0.70825,     0.70804,     0.70782,      0.7076,     0.70738,     0.70717,     0.70707,     0.70707,     0.70707,     0.70707,     0.70707,     0.70707,     0.70707,     0.70707,     0.70707,     0.70707,     0.70707,\n",
       "            0.70707,     0.70707,     0.70707,     0.70707,     0.70707,     0.70707,     0.70707,     0.70707,     0.70707,     0.70707,     0.70707,     0.70707,     0.70707,     0.70707,     0.70707,     0.70707,     0.70707,     0.70707,     0.70707,     0.70707,     0.70707,     0.70707,     0.70707,\n",
       "            0.70707,     0.70707,     0.70707,     0.70707,       0.707,     0.70624,     0.70547,      0.7047,     0.70341,     0.70198,     0.70055,     0.69948,      0.6994,     0.69933,     0.69926,     0.69919,     0.69912,     0.69904,     0.69897,      0.6989,     0.69883,     0.69876,     0.69868,\n",
       "            0.69861,     0.69854,     0.69847,      0.6984,     0.69832,     0.69825,     0.69818,     0.69811,     0.69804,     0.69796,     0.69789,     0.69782,     0.69775,     0.69768,      0.6976,     0.69753,     0.69746,     0.69739,     0.69732,     0.69724,     0.69717,      0.6971,     0.69703,\n",
       "             0.6969,     0.69656,     0.69622,     0.69588,     0.69554,      0.6952,     0.69487,     0.69453,     0.69332,     0.69192,     0.69192,     0.69192,     0.69192,     0.69157,     0.69103,     0.69048,     0.68994,     0.68939,     0.68856,     0.68773,     0.68691,     0.68681,     0.68675,\n",
       "            0.68669,     0.68663,     0.68657,     0.68651,     0.68645,     0.68639,     0.68632,     0.68626,      0.6862,     0.68614,     0.68608,     0.68602,     0.68596,      0.6859,     0.68584,     0.68578,     0.68572,     0.68566,      0.6856,     0.68554,     0.68547,     0.68541,     0.68535,\n",
       "            0.68529,     0.68523,     0.68517,     0.68511,     0.68505,     0.68499,     0.68493,     0.68487,     0.68481,     0.68475,     0.68469,     0.68462,     0.68456,      0.6845,     0.68444,     0.68438,     0.68432,     0.68424,     0.68417,      0.6841,     0.68403,     0.68396,     0.68389,\n",
       "            0.68381,     0.68374,     0.68367,      0.6836,     0.68353,     0.68345,     0.68338,     0.68331,     0.68324,     0.68317,     0.68309,     0.68302,     0.68295,     0.68288,     0.68281,     0.68273,     0.68266,     0.68259,     0.68252,     0.68245,     0.68238,      0.6823,     0.68223,\n",
       "            0.68216,     0.68209,     0.68202,     0.68194,     0.68187,     0.68175,     0.68145,     0.68116,     0.68087,     0.68058,     0.68029,        0.68,      0.6797,     0.67941,     0.67927,     0.67923,     0.67918,     0.67914,      0.6791,     0.67906,     0.67902,     0.67897,     0.67893,\n",
       "            0.67889,     0.67885,     0.67881,     0.67877,     0.67872,     0.67868,     0.67864,      0.6786,     0.67856,     0.67851,     0.67847,     0.67843,     0.67839,     0.67835,      0.6783,     0.67826,     0.67822,     0.67818,     0.67814,     0.67809,     0.67805,     0.67801,     0.67797,\n",
       "            0.67793,     0.67788,     0.67784,      0.6778,     0.67776,     0.67772,     0.67768,     0.67763,     0.67759,     0.67755,     0.67751,     0.67747,     0.67742,     0.67738,     0.67734,      0.6773,     0.67726,     0.67721,     0.67717,     0.67713,     0.67709,     0.67705,       0.677,\n",
       "            0.67696,     0.67692,     0.67688,     0.67684,     0.67679,     0.67496,     0.67418,     0.67412,     0.67405,     0.67398,     0.67392,     0.67385,     0.67378,     0.67371,     0.67365,     0.67358,     0.67351,     0.67344,     0.67338,     0.67331,     0.67324,     0.67318,     0.67311,\n",
       "            0.67304,     0.67297,     0.67291,     0.67284,     0.67277,     0.67271,     0.67264,     0.67257,      0.6725,     0.67244,     0.67237,      0.6723,     0.67223,     0.67217,      0.6721,     0.67203,     0.67197,      0.6719,     0.67183,     0.67176,     0.67168,     0.67155,     0.67142,\n",
       "            0.67129,     0.67116,     0.67103,      0.6709,     0.67077,     0.67064,     0.67051,     0.67038,     0.67025,     0.67013,        0.67,     0.66987,     0.66974,     0.66961,     0.66948,     0.66935,     0.66922,     0.66902,     0.66881,     0.66859,     0.66837,     0.66816,     0.66794,\n",
       "            0.66773,     0.66751,      0.6673,     0.66708,     0.66686,     0.66666,     0.66657,     0.66648,     0.66639,      0.6663,     0.66621,     0.66611,     0.66602,     0.66593,     0.66584,     0.66575,     0.66566,     0.66557,     0.66548,     0.66539,      0.6653,     0.66521,     0.66512,\n",
       "            0.66502,     0.66493,     0.66484,     0.66475,     0.66466,     0.66457,     0.66448,     0.66439,      0.6643,     0.66421,      0.6641,     0.66397,     0.66383,     0.66369,     0.66356,     0.66342,     0.66329,     0.66315,     0.66301,     0.66288,     0.66274,      0.6626,     0.66247,\n",
       "            0.66233,      0.6622,     0.66206,     0.66192,     0.66179,     0.66165,      0.6615,     0.66133,     0.66117,     0.66101,     0.66085,     0.66069,     0.66053,     0.66036,      0.6602,     0.66004,     0.65988,     0.65972,     0.65955,     0.65939,     0.65923,     0.65889,     0.65742,\n",
       "            0.65653,     0.65644,     0.65635,     0.65627,     0.65618,     0.65609,       0.656,     0.65591,     0.65583,     0.65574,     0.65565,     0.65556,     0.65548,     0.65539,      0.6553,     0.65521,     0.65512,     0.65504,     0.65495,     0.65486,     0.65477,     0.65469,      0.6546,\n",
       "            0.65451,     0.65442,     0.65433,     0.65425,     0.65416,     0.65407,     0.65401,     0.65397,     0.65392,     0.65388,     0.65383,     0.65379,     0.65374,      0.6537,     0.65365,     0.65361,     0.65356,     0.65352,     0.65347,     0.65343,     0.65338,     0.65334,     0.65329,\n",
       "            0.65325,      0.6532,     0.65316,     0.65311,     0.65307,     0.65302,     0.65298,     0.65293,     0.65289,     0.65284,      0.6528,     0.65275,     0.65271,     0.65266,     0.65262,     0.65257,     0.65253,     0.65248,     0.65244,     0.65239,     0.65235,      0.6523,     0.65226,\n",
       "            0.65221,     0.65217,     0.65212,     0.65208,     0.65203,     0.65199,     0.65194,      0.6519,     0.65185,     0.65181,     0.65176,     0.65172,     0.65167,     0.65163,     0.65158,     0.65154,     0.65141,     0.65121,     0.65101,     0.65081,     0.65061,     0.65041,     0.65021,\n",
       "            0.65001,     0.64981,     0.64961,     0.64941,     0.64922,     0.64902,     0.64644,     0.64641,     0.64638,     0.64635,     0.64632,     0.64629,     0.64626,     0.64623,      0.6462,     0.64617,     0.64615,     0.64612,     0.64609,     0.64606,     0.64603,       0.646,     0.64597,\n",
       "            0.64594,     0.64591,     0.64588,     0.64585,     0.64582,     0.64579,     0.64576,     0.64573,      0.6457,     0.64567,     0.64564,     0.64562,     0.64559,     0.64556,     0.64553,      0.6455,     0.64547,     0.64544,     0.64541,     0.64538,     0.64535,     0.64532,     0.64529,\n",
       "            0.64526,     0.64523,      0.6452,     0.64517,     0.64514,     0.64512,     0.64509,     0.64506,     0.64503,       0.645,     0.64497,     0.64494,     0.64491,     0.64488,     0.64485,     0.64482,     0.64479,     0.64476,     0.64473,      0.6447,     0.64467,     0.64464,     0.64462,\n",
       "            0.64459,     0.64456,     0.64453,      0.6445,     0.64447,     0.64444,     0.64441,     0.64438,     0.64435,     0.64432,     0.64429,     0.64426,     0.64423,      0.6442,     0.64417,     0.64414,     0.64412,     0.64409,     0.64406,     0.64403,       0.644,     0.64397,     0.64394,\n",
       "            0.64376,     0.64358,      0.6434,     0.64322,     0.64304,     0.64287,     0.64269,     0.64251,     0.64233,     0.64215,     0.64197,     0.64179,     0.64162,     0.64144,     0.64123,     0.64101,      0.6408,     0.64058,     0.64036,     0.64015,     0.63993,     0.63972,      0.6395,\n",
       "            0.63929,     0.63907,     0.63888,     0.63886,     0.63883,      0.6388,     0.63878,     0.63875,     0.63872,      0.6387,     0.63867,     0.63864,     0.63861,     0.63859,     0.63856,     0.63853,     0.63851,     0.63848,     0.63845,     0.63843,      0.6384,     0.63837,     0.63835,\n",
       "            0.63832,     0.63829,     0.63826,     0.63824,     0.63821,     0.63818,     0.63816,     0.63813,      0.6381,     0.63808,     0.63805,     0.63802,     0.63799,     0.63797,     0.63794,     0.63791,     0.63789,     0.63786,     0.63783,     0.63781,     0.63778,     0.63775,     0.63773,\n",
       "             0.6377,     0.63767,     0.63764,     0.63762,     0.63759,     0.63756,     0.63754,     0.63751,     0.63748,     0.63746,     0.63743,      0.6374,     0.63737,     0.63735,     0.63732,     0.63729,     0.63727,     0.63724,     0.63721,     0.63719,     0.63716,     0.63713,      0.6371,\n",
       "            0.63708,     0.63705,     0.63702,       0.637,     0.63697,     0.63694,     0.63692,     0.63689,     0.63686,     0.63684,     0.63681,     0.63678,     0.63675,     0.63673,      0.6367,     0.63667,     0.63665,     0.63662,     0.63659,     0.63657,     0.63654,     0.63651,     0.63648,\n",
       "            0.63646,     0.63643,      0.6364,     0.63638,     0.63632,     0.63623,     0.63614,     0.63605,     0.63596,     0.63587,     0.63578,     0.63569,      0.6356,     0.63552,     0.63543,     0.63534,     0.63525,     0.63516,     0.63507,     0.63498,     0.63489,      0.6348,     0.63471,\n",
       "            0.63462,     0.63453,     0.63444,     0.63435,     0.63427,     0.63418,     0.63409,       0.634,     0.63391,     0.63383,     0.63377,     0.63371,     0.63364,     0.63358,     0.63352,     0.63346,      0.6334,     0.63334,     0.63328,     0.63322,     0.63316,      0.6331,     0.63304,\n",
       "            0.63298,     0.63292,     0.63286,      0.6328,     0.63274,     0.63268,     0.63262,     0.63256,      0.6325,     0.63244,     0.63238,     0.63232,     0.63226,      0.6322,     0.63214,     0.63208,     0.63202,     0.63196,      0.6319,     0.63184,     0.63178,     0.63172,     0.63166,\n",
       "             0.6316,     0.63154,     0.63148,     0.63142,     0.63136,     0.63128,     0.63115,     0.63102,     0.63089,     0.63076,     0.63063,      0.6305,     0.63037,     0.63024,     0.63011,     0.62998,     0.62986,     0.62973,      0.6296,     0.62947,     0.62934,     0.62921,     0.62908,\n",
       "            0.62895,     0.62882,     0.62684,     0.62361,     0.62318,     0.62275,     0.62232,     0.62189,     0.62146,     0.62101,     0.62054,     0.62007,      0.6196,     0.61912,     0.61862,     0.61758,     0.61654,      0.6158,     0.61522,     0.61465,     0.61407,     0.61301,     0.61043,\n",
       "            0.60821,     0.60692,     0.60606,     0.60544,     0.60371,     0.60287,     0.60213,     0.60139,      0.5985,     0.59539,     0.59481,     0.59424,     0.59366,     0.59265,     0.59136,     0.58821,     0.58718,     0.58614,     0.58209,     0.57277,     0.57105,     0.56764,     0.56591,\n",
       "             0.5562,      0.5495,     0.54585,     0.54054,     0.53297,     0.53031,     0.52514,      0.5163,     0.50487,     0.50203,     0.49686,     0.48663,      0.4764,     0.47299,     0.46605,     0.46023,     0.44628,     0.42779,     0.41251,     0.39724,     0.38448,     0.36921,     0.35393,\n",
       "            0.32828,     0.31832,     0.30556,     0.28271,     0.25481,     0.22943,     0.22173,      0.2014,     0.19622,     0.17842,     0.15557,     0.13776,     0.12311,     0.11731,     0.10456,    0.091804,    0.079051,    0.074288,    0.071223,    0.063326,    0.060738,    0.050642,    0.044197,\n",
       "           0.040346,    0.030182,    0.025068,    0.022562,    0.020836,    0.019656,    0.018794,    0.017931,    0.013325,    0.010737,   0.0067947,   0.0057593,   0.0049795,   0.0047544,   0.0045293,   0.0043043,   0.0040792,   0.0038541,    0.003629,   0.0034039,   0.0031788,   0.0029538,   0.0027287,\n",
       "                  0,           0,           0,           0,           0,           0,           0,           0,           0,           0,           0,           0,           0,           0,           0,           0,           0,           0,           0,           0,           0,           0,           0,\n",
       "                  0,           0,           0,           0,           0,           0,           0,           0,           0,           0,           0,           0,           0,           0,           0,           0,           0,           0,           0,           0,           0,           0,           0,\n",
       "                  0,           0,           0,           0,           0,           0,           0,           0,           0,           0,           0]]), 'Confidence', 'Recall']]\n",
       "fitness: 0.4984679584169521\n",
       "keys: ['metrics/precision(B)', 'metrics/recall(B)', 'metrics/mAP50(B)', 'metrics/mAP50-95(B)']\n",
       "maps: array([    0.46362])\n",
       "names: {0: 'root'}\n",
       "plot: True\n",
       "results_dict: {'metrics/precision(B)': 0.9615239332103356, 'metrics/recall(B)': 0.7070707070707071, 'metrics/mAP50(B)': 0.8121106994542105, 'metrics/mAP50-95(B)': 0.4636187649683678, 'fitness': 0.4984679584169521}\n",
       "save_dir: PosixPath('runs/detect/train3')\n",
       "speed: {'preprocess': 12.628092007203534, 'inference': 84.21097921602653, 'loss': 0.00014810851126006156, 'postprocess': 64.08353285356002}\n",
       "task: 'detect'"
      ]
     },
     "execution_count": 3,
     "metadata": {},
     "output_type": "execute_result"
    }
   ],
   "source": [
    "model.train(data='./datasets/baechu.yaml', epochs=100, patience=10, device=device)"
   ]
  },
  {
   "cell_type": "code",
   "execution_count": 4,
   "metadata": {},
   "outputs": [],
   "source": [
    "model.save('./models/yolov8n_baechu.pt')"
   ]
  },
  {
   "cell_type": "code",
   "execution_count": 5,
   "metadata": {},
   "outputs": [
    {
     "name": "stdout",
     "output_type": "stream",
     "text": [
      "\n",
      "image 1/1 /Users/jh/Desktop/workspace/baechu/datasets/valid/images/gray_3.jpeg: 640x480 1 root, 43453.2ms\n",
      "Speed: 511.4ms preprocess, 43453.2ms inference, 3376.4ms postprocess per image at shape (1, 3, 640, 480)\n",
      "Results saved to \u001b[1mruns/detect/train32\u001b[0m\n"
     ]
    }
   ],
   "source": [
    "result = model.predict('./datasets/valid/images/gray_3.jpeg', save=True)"
   ]
  }
 ],
 "metadata": {
  "kernelspec": {
   "display_name": "baechu",
   "language": "python",
   "name": "python3"
  },
  "language_info": {
   "codemirror_mode": {
    "name": "ipython",
    "version": 3
   },
   "file_extension": ".py",
   "mimetype": "text/x-python",
   "name": "python",
   "nbconvert_exporter": "python",
   "pygments_lexer": "ipython3",
   "version": "3.11.7"
  }
 },
 "nbformat": 4,
 "nbformat_minor": 2
}
